{
 "cells": [
  {
   "cell_type": "markdown",
   "metadata": {},
   "source": [
    "## Code for Perspective Class Project\n",
    "\n",
    "Name: Li Liu\n",
    "\n",
    "Date: April -June, 2019"
   ]
  },
  {
   "cell_type": "markdown",
   "metadata": {},
   "source": [
    "#### Import packages"
   ]
  },
  {
   "cell_type": "code",
   "execution_count": 1,
   "metadata": {},
   "outputs": [],
   "source": [
    "import numpy as np\n",
    "import pandas as pd\n",
    "import matplotlib.pyplot as plt\n",
    "import seaborn as sns\n",
    "%matplotlib inline\n",
    "from wordcloud.wordcloud import WordCloud, STOPWORDS\n",
    "from PIL import Image\n",
    "from vaderSentiment.vaderSentiment import SentimentIntensityAnalyzer\n",
    "analyser = SentimentIntensityAnalyzer()\n",
    "import gender_guesser.detector as gender\n",
    "import warnings\n",
    "warnings.filterwarnings(\"ignore\")\n",
    "from dask import compute, delayed\n",
    "import dask.multiprocessing\n",
    "import multiprocessing\n",
    "import time\n",
    "from sklearn.model_selection import train_test_split\n",
    "from sklearn.preprocessing import MinMaxScaler\n",
    "import six\n",
    "import statsmodels.api as sm\n",
    "from sklearn.tree import export_graphviz\n",
    "import graphviz\n",
    "from scipy.stats import randint as sp_randint\n",
    "from scipy.stats import uniform as sp_uniform\n",
    "from sklearn.model_selection import RandomizedSearchCV\n",
    "from scipy import stats\n",
    "from sklearn.tree import DecisionTreeRegressor\n",
    "from sklearn.ensemble import RandomForestRegressor, GradientBoostingRegressor, AdaBoostRegressor\n",
    "from sklearn.linear_model import LinearRegression, Ridge, Lasso, ElasticNet, BayesianRidge\n",
    "from sklearn.model_selection import train_test_split, KFold, cross_val_score, cross_val_predict\n",
    "from sklearn.metrics import mean_squared_error\n",
    "from sklearn.model_selection import RandomizedSearchCV, GridSearchCV\n",
    "from sklearn.preprocessing import StandardScaler\n",
    "sns.set_style(\"white\")\n",
    "plt.style.use('seaborn-deep')\n",
    "\n",
    "start=time.time()"
   ]
  },
  {
   "cell_type": "markdown",
   "metadata": {},
   "source": [
    "#### Read in data"
   ]
  },
  {
   "cell_type": "code",
   "execution_count": 2,
   "metadata": {},
   "outputs": [
    {
     "name": "stdout",
     "output_type": "stream",
     "text": [
      "total review text (5261668, 9)\n"
     ]
    },
    {
     "data": {
      "text/html": [
       "<div>\n",
       "<style scoped>\n",
       "    .dataframe tbody tr th:only-of-type {\n",
       "        vertical-align: middle;\n",
       "    }\n",
       "\n",
       "    .dataframe tbody tr th {\n",
       "        vertical-align: top;\n",
       "    }\n",
       "\n",
       "    .dataframe thead th {\n",
       "        text-align: right;\n",
       "    }\n",
       "</style>\n",
       "<table border=\"1\" class=\"dataframe\">\n",
       "  <thead>\n",
       "    <tr style=\"text-align: right;\">\n",
       "      <th></th>\n",
       "      <th>review_id</th>\n",
       "      <th>user_id</th>\n",
       "      <th>business_id</th>\n",
       "      <th>stars</th>\n",
       "      <th>date</th>\n",
       "      <th>text</th>\n",
       "      <th>useful</th>\n",
       "      <th>funny</th>\n",
       "      <th>cool</th>\n",
       "    </tr>\n",
       "  </thead>\n",
       "  <tbody>\n",
       "    <tr>\n",
       "      <th>0</th>\n",
       "      <td>vkVSCC7xljjrAI4UGfnKEQ</td>\n",
       "      <td>bv2nCi5Qv5vroFiqKGopiw</td>\n",
       "      <td>AEx2SYEUJmTxVVB18LlCwA</td>\n",
       "      <td>5</td>\n",
       "      <td>2016-05-28</td>\n",
       "      <td>Super simple place but amazing nonetheless. It...</td>\n",
       "      <td>0</td>\n",
       "      <td>0</td>\n",
       "      <td>0</td>\n",
       "    </tr>\n",
       "    <tr>\n",
       "      <th>1</th>\n",
       "      <td>n6QzIUObkYshz4dz2QRJTw</td>\n",
       "      <td>bv2nCi5Qv5vroFiqKGopiw</td>\n",
       "      <td>VR6GpWIda3SfvPC-lg9H3w</td>\n",
       "      <td>5</td>\n",
       "      <td>2016-05-28</td>\n",
       "      <td>Small unassuming place that changes their menu...</td>\n",
       "      <td>0</td>\n",
       "      <td>0</td>\n",
       "      <td>0</td>\n",
       "    </tr>\n",
       "  </tbody>\n",
       "</table>\n",
       "</div>"
      ],
      "text/plain": [
       "                review_id                 user_id             business_id  \\\n",
       "0  vkVSCC7xljjrAI4UGfnKEQ  bv2nCi5Qv5vroFiqKGopiw  AEx2SYEUJmTxVVB18LlCwA   \n",
       "1  n6QzIUObkYshz4dz2QRJTw  bv2nCi5Qv5vroFiqKGopiw  VR6GpWIda3SfvPC-lg9H3w   \n",
       "\n",
       "   stars        date                                               text  \\\n",
       "0      5  2016-05-28  Super simple place but amazing nonetheless. It...   \n",
       "1      5  2016-05-28  Small unassuming place that changes their menu...   \n",
       "\n",
       "   useful  funny  cool  \n",
       "0       0      0     0  \n",
       "1       0      0     0  "
      ]
     },
     "execution_count": 2,
     "metadata": {},
     "output_type": "execute_result"
    }
   ],
   "source": [
    "#review \n",
    "rev = pd.read_csv(\"yelp_review.csv\")\n",
    "print(\"total review text\", rev.shape)\n",
    "rev.head(2)"
   ]
  },
  {
   "cell_type": "markdown",
   "metadata": {},
   "source": [
    "#### Subset the data \n",
    "\n",
    "1. Only restaurants in Las Vegas\n",
    "\n",
    "2. Join data from business and users"
   ]
  },
  {
   "cell_type": "code",
   "execution_count": 4,
   "metadata": {},
   "outputs": [
    {
     "name": "stdout",
     "output_type": "stream",
     "text": [
      "total business (174567, 13)\n",
      "total open restaurants (3990, 7)\n"
     ]
    }
   ],
   "source": [
    "#business\n",
    "bus = pd.read_csv(\"yelp_business.csv\")\n",
    "print(\"total business\",bus.shape)\n",
    "\n",
    "#select restaurants in LV\n",
    "LV = bus[bus[\"city\"] == \"Las Vegas\"]\n",
    "LVR = LV[LV['categories'].str.contains('Restaurants') == True] \n",
    "\n",
    "#select only open restaurants; drop uninformative features\n",
    "LVR = LVR[LVR[\"is_open\"]==1]\n",
    "LVR = LVR.drop([\"city\",\"state\", \"postal_code\", \n",
    "                \"address\", \"latitude\", \"longitude\"], axis=1)\n",
    "\n",
    "print(\"total open restaurants\", LVR.shape)"
   ]
  },
  {
   "cell_type": "code",
   "execution_count": 6,
   "metadata": {},
   "outputs": [
    {
     "data": {
      "text/plain": [
       "(1326100, 22)"
      ]
     },
     "execution_count": 6,
     "metadata": {},
     "output_type": "execute_result"
    }
   ],
   "source": [
    "#user data\n",
    "user = pd.read_csv(\"yelp_user.csv\")\n",
    "user.shape"
   ]
  },
  {
   "cell_type": "code",
   "execution_count": 7,
   "metadata": {},
   "outputs": [
    {
     "data": {
      "text/plain": [
       "(795588, 36)"
      ]
     },
     "execution_count": 7,
     "metadata": {},
     "output_type": "execute_result"
    }
   ],
   "source": [
    "# aggregate data \n",
    "# each line: a review/trip of a particular restaurant by a particular user.\n",
    "agg = pd.merge(LVR, rev, how=\"left\", on=\"business_id\")\n",
    "agg = pd.merge(agg, user, how=\"left\", on=\"user_id\")\n",
    "agg.rename(columns = {'stars_x':\"star_bus\", \"review_count_x\": \"cts_bus\",\n",
    "                      \"stars_y\": \"star_customer\"},\n",
    "           inplace = True)\n",
    "agg.shape"
   ]
  },
  {
   "cell_type": "code",
   "execution_count": 10,
   "metadata": {},
   "outputs": [
    {
     "data": {
      "text/html": [
       "<div>\n",
       "<style scoped>\n",
       "    .dataframe tbody tr th:only-of-type {\n",
       "        vertical-align: middle;\n",
       "    }\n",
       "\n",
       "    .dataframe tbody tr th {\n",
       "        vertical-align: top;\n",
       "    }\n",
       "\n",
       "    .dataframe thead th {\n",
       "        text-align: right;\n",
       "    }\n",
       "</style>\n",
       "<table border=\"1\" class=\"dataframe\">\n",
       "  <thead>\n",
       "    <tr style=\"text-align: right;\">\n",
       "      <th></th>\n",
       "      <th>business_id</th>\n",
       "      <th>name_x</th>\n",
       "      <th>neighborhood</th>\n",
       "      <th>star_bus</th>\n",
       "      <th>cts_bus</th>\n",
       "      <th>is_open</th>\n",
       "      <th>categories</th>\n",
       "      <th>review_id</th>\n",
       "      <th>user_id</th>\n",
       "      <th>star_customer</th>\n",
       "      <th>...</th>\n",
       "      <th>compliment_more</th>\n",
       "      <th>compliment_profile</th>\n",
       "      <th>compliment_cute</th>\n",
       "      <th>compliment_list</th>\n",
       "      <th>compliment_note</th>\n",
       "      <th>compliment_plain</th>\n",
       "      <th>compliment_cool</th>\n",
       "      <th>compliment_funny</th>\n",
       "      <th>compliment_writer</th>\n",
       "      <th>compliment_photos</th>\n",
       "    </tr>\n",
       "  </thead>\n",
       "  <tbody>\n",
       "    <tr>\n",
       "      <th>0</th>\n",
       "      <td>Pd52CjgyEU3Rb8co6QfTPw</td>\n",
       "      <td>\"Flight Deck Bar &amp; Grill\"</td>\n",
       "      <td>Southeast</td>\n",
       "      <td>4.0</td>\n",
       "      <td>13</td>\n",
       "      <td>1</td>\n",
       "      <td>Nightlife;Bars;Barbeque;Sports Bars;American (...</td>\n",
       "      <td>aG4aEOW86hut943oqL_DOg</td>\n",
       "      <td>9kV4tmBcE-l5tJqzgKjZRA</td>\n",
       "      <td>4</td>\n",
       "      <td>...</td>\n",
       "      <td>0</td>\n",
       "      <td>0</td>\n",
       "      <td>0</td>\n",
       "      <td>0</td>\n",
       "      <td>0</td>\n",
       "      <td>2</td>\n",
       "      <td>1</td>\n",
       "      <td>1</td>\n",
       "      <td>0</td>\n",
       "      <td>0</td>\n",
       "    </tr>\n",
       "    <tr>\n",
       "      <th>1</th>\n",
       "      <td>Pd52CjgyEU3Rb8co6QfTPw</td>\n",
       "      <td>\"Flight Deck Bar &amp; Grill\"</td>\n",
       "      <td>Southeast</td>\n",
       "      <td>4.0</td>\n",
       "      <td>13</td>\n",
       "      <td>1</td>\n",
       "      <td>Nightlife;Bars;Barbeque;Sports Bars;American (...</td>\n",
       "      <td>fQpivmd02GA4eZJRZGgDQQ</td>\n",
       "      <td>i7Z7iiDSbWq-npAYHQUeew</td>\n",
       "      <td>5</td>\n",
       "      <td>...</td>\n",
       "      <td>0</td>\n",
       "      <td>0</td>\n",
       "      <td>0</td>\n",
       "      <td>0</td>\n",
       "      <td>0</td>\n",
       "      <td>0</td>\n",
       "      <td>0</td>\n",
       "      <td>0</td>\n",
       "      <td>0</td>\n",
       "      <td>0</td>\n",
       "    </tr>\n",
       "    <tr>\n",
       "      <th>2</th>\n",
       "      <td>Pd52CjgyEU3Rb8co6QfTPw</td>\n",
       "      <td>\"Flight Deck Bar &amp; Grill\"</td>\n",
       "      <td>Southeast</td>\n",
       "      <td>4.0</td>\n",
       "      <td>13</td>\n",
       "      <td>1</td>\n",
       "      <td>Nightlife;Bars;Barbeque;Sports Bars;American (...</td>\n",
       "      <td>3recIhisA9vC4wnQOMCj7g</td>\n",
       "      <td>7Iga45IMB_VKyPZnbhSE2w</td>\n",
       "      <td>1</td>\n",
       "      <td>...</td>\n",
       "      <td>0</td>\n",
       "      <td>0</td>\n",
       "      <td>0</td>\n",
       "      <td>0</td>\n",
       "      <td>0</td>\n",
       "      <td>0</td>\n",
       "      <td>0</td>\n",
       "      <td>0</td>\n",
       "      <td>0</td>\n",
       "      <td>0</td>\n",
       "    </tr>\n",
       "    <tr>\n",
       "      <th>3</th>\n",
       "      <td>Pd52CjgyEU3Rb8co6QfTPw</td>\n",
       "      <td>\"Flight Deck Bar &amp; Grill\"</td>\n",
       "      <td>Southeast</td>\n",
       "      <td>4.0</td>\n",
       "      <td>13</td>\n",
       "      <td>1</td>\n",
       "      <td>Nightlife;Bars;Barbeque;Sports Bars;American (...</td>\n",
       "      <td>18i3YtCuEGMxYSS7fQdR8Q</td>\n",
       "      <td>IvBzaJeCcuChLuKGq3xhxA</td>\n",
       "      <td>2</td>\n",
       "      <td>...</td>\n",
       "      <td>0</td>\n",
       "      <td>0</td>\n",
       "      <td>0</td>\n",
       "      <td>0</td>\n",
       "      <td>0</td>\n",
       "      <td>0</td>\n",
       "      <td>0</td>\n",
       "      <td>0</td>\n",
       "      <td>1</td>\n",
       "      <td>0</td>\n",
       "    </tr>\n",
       "    <tr>\n",
       "      <th>4</th>\n",
       "      <td>Pd52CjgyEU3Rb8co6QfTPw</td>\n",
       "      <td>\"Flight Deck Bar &amp; Grill\"</td>\n",
       "      <td>Southeast</td>\n",
       "      <td>4.0</td>\n",
       "      <td>13</td>\n",
       "      <td>1</td>\n",
       "      <td>Nightlife;Bars;Barbeque;Sports Bars;American (...</td>\n",
       "      <td>brbrSd8nHkAEoN56ADEl9A</td>\n",
       "      <td>nIV1-sMoRFrnEtO1TUfLZQ</td>\n",
       "      <td>1</td>\n",
       "      <td>...</td>\n",
       "      <td>0</td>\n",
       "      <td>0</td>\n",
       "      <td>0</td>\n",
       "      <td>0</td>\n",
       "      <td>0</td>\n",
       "      <td>0</td>\n",
       "      <td>0</td>\n",
       "      <td>0</td>\n",
       "      <td>0</td>\n",
       "      <td>0</td>\n",
       "    </tr>\n",
       "    <tr>\n",
       "      <th>5</th>\n",
       "      <td>Pd52CjgyEU3Rb8co6QfTPw</td>\n",
       "      <td>\"Flight Deck Bar &amp; Grill\"</td>\n",
       "      <td>Southeast</td>\n",
       "      <td>4.0</td>\n",
       "      <td>13</td>\n",
       "      <td>1</td>\n",
       "      <td>Nightlife;Bars;Barbeque;Sports Bars;American (...</td>\n",
       "      <td>nNUaNk8s0elCDn6vjnpqSw</td>\n",
       "      <td>bZnjSVQApjVHrAV9jjtH_A</td>\n",
       "      <td>4</td>\n",
       "      <td>...</td>\n",
       "      <td>0</td>\n",
       "      <td>0</td>\n",
       "      <td>0</td>\n",
       "      <td>0</td>\n",
       "      <td>5</td>\n",
       "      <td>27</td>\n",
       "      <td>24</td>\n",
       "      <td>24</td>\n",
       "      <td>1</td>\n",
       "      <td>10</td>\n",
       "    </tr>\n",
       "    <tr>\n",
       "      <th>6</th>\n",
       "      <td>Pd52CjgyEU3Rb8co6QfTPw</td>\n",
       "      <td>\"Flight Deck Bar &amp; Grill\"</td>\n",
       "      <td>Southeast</td>\n",
       "      <td>4.0</td>\n",
       "      <td>13</td>\n",
       "      <td>1</td>\n",
       "      <td>Nightlife;Bars;Barbeque;Sports Bars;American (...</td>\n",
       "      <td>6vDw-ABLzLweUpC5avb_qQ</td>\n",
       "      <td>QW-BiJacnXWChzDkE0vzvw</td>\n",
       "      <td>5</td>\n",
       "      <td>...</td>\n",
       "      <td>0</td>\n",
       "      <td>0</td>\n",
       "      <td>0</td>\n",
       "      <td>0</td>\n",
       "      <td>0</td>\n",
       "      <td>0</td>\n",
       "      <td>0</td>\n",
       "      <td>0</td>\n",
       "      <td>0</td>\n",
       "      <td>0</td>\n",
       "    </tr>\n",
       "    <tr>\n",
       "      <th>7</th>\n",
       "      <td>Pd52CjgyEU3Rb8co6QfTPw</td>\n",
       "      <td>\"Flight Deck Bar &amp; Grill\"</td>\n",
       "      <td>Southeast</td>\n",
       "      <td>4.0</td>\n",
       "      <td>13</td>\n",
       "      <td>1</td>\n",
       "      <td>Nightlife;Bars;Barbeque;Sports Bars;American (...</td>\n",
       "      <td>nLNy8VrWotFX_X_wJkIr1Q</td>\n",
       "      <td>9xiL2hwiCZDMOXuYR8eH_Q</td>\n",
       "      <td>4</td>\n",
       "      <td>...</td>\n",
       "      <td>0</td>\n",
       "      <td>0</td>\n",
       "      <td>0</td>\n",
       "      <td>0</td>\n",
       "      <td>0</td>\n",
       "      <td>0</td>\n",
       "      <td>0</td>\n",
       "      <td>0</td>\n",
       "      <td>0</td>\n",
       "      <td>0</td>\n",
       "    </tr>\n",
       "    <tr>\n",
       "      <th>8</th>\n",
       "      <td>Pd52CjgyEU3Rb8co6QfTPw</td>\n",
       "      <td>\"Flight Deck Bar &amp; Grill\"</td>\n",
       "      <td>Southeast</td>\n",
       "      <td>4.0</td>\n",
       "      <td>13</td>\n",
       "      <td>1</td>\n",
       "      <td>Nightlife;Bars;Barbeque;Sports Bars;American (...</td>\n",
       "      <td>5ip_xC4vxChkWfBSvjDiUA</td>\n",
       "      <td>WDri7o-5cBnmTx51Oqp5QA</td>\n",
       "      <td>5</td>\n",
       "      <td>...</td>\n",
       "      <td>0</td>\n",
       "      <td>0</td>\n",
       "      <td>0</td>\n",
       "      <td>0</td>\n",
       "      <td>0</td>\n",
       "      <td>0</td>\n",
       "      <td>0</td>\n",
       "      <td>0</td>\n",
       "      <td>0</td>\n",
       "      <td>0</td>\n",
       "    </tr>\n",
       "    <tr>\n",
       "      <th>9</th>\n",
       "      <td>Pd52CjgyEU3Rb8co6QfTPw</td>\n",
       "      <td>\"Flight Deck Bar &amp; Grill\"</td>\n",
       "      <td>Southeast</td>\n",
       "      <td>4.0</td>\n",
       "      <td>13</td>\n",
       "      <td>1</td>\n",
       "      <td>Nightlife;Bars;Barbeque;Sports Bars;American (...</td>\n",
       "      <td>v3jLe639rG4Ct9isevO0ew</td>\n",
       "      <td>r9oVxyoJyX5pH_O2q2UaCA</td>\n",
       "      <td>5</td>\n",
       "      <td>...</td>\n",
       "      <td>0</td>\n",
       "      <td>0</td>\n",
       "      <td>0</td>\n",
       "      <td>0</td>\n",
       "      <td>0</td>\n",
       "      <td>0</td>\n",
       "      <td>0</td>\n",
       "      <td>0</td>\n",
       "      <td>0</td>\n",
       "      <td>0</td>\n",
       "    </tr>\n",
       "  </tbody>\n",
       "</table>\n",
       "<p>10 rows × 36 columns</p>\n",
       "</div>"
      ],
      "text/plain": [
       "              business_id                     name_x neighborhood  star_bus  \\\n",
       "0  Pd52CjgyEU3Rb8co6QfTPw  \"Flight Deck Bar & Grill\"    Southeast       4.0   \n",
       "1  Pd52CjgyEU3Rb8co6QfTPw  \"Flight Deck Bar & Grill\"    Southeast       4.0   \n",
       "2  Pd52CjgyEU3Rb8co6QfTPw  \"Flight Deck Bar & Grill\"    Southeast       4.0   \n",
       "3  Pd52CjgyEU3Rb8co6QfTPw  \"Flight Deck Bar & Grill\"    Southeast       4.0   \n",
       "4  Pd52CjgyEU3Rb8co6QfTPw  \"Flight Deck Bar & Grill\"    Southeast       4.0   \n",
       "5  Pd52CjgyEU3Rb8co6QfTPw  \"Flight Deck Bar & Grill\"    Southeast       4.0   \n",
       "6  Pd52CjgyEU3Rb8co6QfTPw  \"Flight Deck Bar & Grill\"    Southeast       4.0   \n",
       "7  Pd52CjgyEU3Rb8co6QfTPw  \"Flight Deck Bar & Grill\"    Southeast       4.0   \n",
       "8  Pd52CjgyEU3Rb8co6QfTPw  \"Flight Deck Bar & Grill\"    Southeast       4.0   \n",
       "9  Pd52CjgyEU3Rb8co6QfTPw  \"Flight Deck Bar & Grill\"    Southeast       4.0   \n",
       "\n",
       "   cts_bus  is_open                                         categories  \\\n",
       "0       13        1  Nightlife;Bars;Barbeque;Sports Bars;American (...   \n",
       "1       13        1  Nightlife;Bars;Barbeque;Sports Bars;American (...   \n",
       "2       13        1  Nightlife;Bars;Barbeque;Sports Bars;American (...   \n",
       "3       13        1  Nightlife;Bars;Barbeque;Sports Bars;American (...   \n",
       "4       13        1  Nightlife;Bars;Barbeque;Sports Bars;American (...   \n",
       "5       13        1  Nightlife;Bars;Barbeque;Sports Bars;American (...   \n",
       "6       13        1  Nightlife;Bars;Barbeque;Sports Bars;American (...   \n",
       "7       13        1  Nightlife;Bars;Barbeque;Sports Bars;American (...   \n",
       "8       13        1  Nightlife;Bars;Barbeque;Sports Bars;American (...   \n",
       "9       13        1  Nightlife;Bars;Barbeque;Sports Bars;American (...   \n",
       "\n",
       "                review_id                 user_id  star_customer  \\\n",
       "0  aG4aEOW86hut943oqL_DOg  9kV4tmBcE-l5tJqzgKjZRA              4   \n",
       "1  fQpivmd02GA4eZJRZGgDQQ  i7Z7iiDSbWq-npAYHQUeew              5   \n",
       "2  3recIhisA9vC4wnQOMCj7g  7Iga45IMB_VKyPZnbhSE2w              1   \n",
       "3  18i3YtCuEGMxYSS7fQdR8Q  IvBzaJeCcuChLuKGq3xhxA              2   \n",
       "4  brbrSd8nHkAEoN56ADEl9A  nIV1-sMoRFrnEtO1TUfLZQ              1   \n",
       "5  nNUaNk8s0elCDn6vjnpqSw  bZnjSVQApjVHrAV9jjtH_A              4   \n",
       "6  6vDw-ABLzLweUpC5avb_qQ  QW-BiJacnXWChzDkE0vzvw              5   \n",
       "7  nLNy8VrWotFX_X_wJkIr1Q  9xiL2hwiCZDMOXuYR8eH_Q              4   \n",
       "8  5ip_xC4vxChkWfBSvjDiUA  WDri7o-5cBnmTx51Oqp5QA              5   \n",
       "9  v3jLe639rG4Ct9isevO0ew  r9oVxyoJyX5pH_O2q2UaCA              5   \n",
       "\n",
       "         ...         compliment_more compliment_profile  compliment_cute  \\\n",
       "0        ...                       0                  0                0   \n",
       "1        ...                       0                  0                0   \n",
       "2        ...                       0                  0                0   \n",
       "3        ...                       0                  0                0   \n",
       "4        ...                       0                  0                0   \n",
       "5        ...                       0                  0                0   \n",
       "6        ...                       0                  0                0   \n",
       "7        ...                       0                  0                0   \n",
       "8        ...                       0                  0                0   \n",
       "9        ...                       0                  0                0   \n",
       "\n",
       "   compliment_list  compliment_note compliment_plain  compliment_cool  \\\n",
       "0                0                0                2                1   \n",
       "1                0                0                0                0   \n",
       "2                0                0                0                0   \n",
       "3                0                0                0                0   \n",
       "4                0                0                0                0   \n",
       "5                0                5               27               24   \n",
       "6                0                0                0                0   \n",
       "7                0                0                0                0   \n",
       "8                0                0                0                0   \n",
       "9                0                0                0                0   \n",
       "\n",
       "  compliment_funny compliment_writer  compliment_photos  \n",
       "0                1                 0                  0  \n",
       "1                0                 0                  0  \n",
       "2                0                 0                  0  \n",
       "3                0                 1                  0  \n",
       "4                0                 0                  0  \n",
       "5               24                 1                 10  \n",
       "6                0                 0                  0  \n",
       "7                0                 0                  0  \n",
       "8                0                 0                  0  \n",
       "9                0                 0                  0  \n",
       "\n",
       "[10 rows x 36 columns]"
      ]
     },
     "execution_count": 10,
     "metadata": {},
     "output_type": "execute_result"
    }
   ],
   "source": [
    "agg.head(10)"
   ]
  },
  {
   "cell_type": "code",
   "execution_count": 9,
   "metadata": {},
   "outputs": [
    {
     "data": {
      "text/plain": [
       "Index(['business_id', 'name_x', 'neighborhood', 'star_bus', 'cts_bus',\n",
       "       'is_open', 'categories', 'review_id', 'user_id', 'star_customer',\n",
       "       'date', 'text', 'useful_x', 'funny_x', 'cool_x', 'name_y',\n",
       "       'review_count_y', 'yelping_since', 'friends', 'useful_y', 'funny_y',\n",
       "       'cool_y', 'fans', 'elite', 'average_stars', 'compliment_hot',\n",
       "       'compliment_more', 'compliment_profile', 'compliment_cute',\n",
       "       'compliment_list', 'compliment_note', 'compliment_plain',\n",
       "       'compliment_cool', 'compliment_funny', 'compliment_writer',\n",
       "       'compliment_photos'],\n",
       "      dtype='object')"
      ]
     },
     "execution_count": 9,
     "metadata": {},
     "output_type": "execute_result"
    }
   ],
   "source": [
    "agg.columns"
   ]
  },
  {
   "cell_type": "code",
   "execution_count": 8,
   "metadata": {},
   "outputs": [],
   "source": [
    "#Subset the data to speed up execution\n",
    "#sample = 10000\n",
    "#agg = agg.iloc[:sample]"
   ]
  },
  {
   "cell_type": "markdown",
   "metadata": {},
   "source": [
    "#### Dependent variable: Customers Ratings"
   ]
  },
  {
   "cell_type": "markdown",
   "metadata": {},
   "source": [
    "y is the measure for customer satisfaction. We reweighed and rescaled the star ratings."
   ]
  },
  {
   "cell_type": "code",
   "execution_count": 11,
   "metadata": {},
   "outputs": [
    {
     "data": {
      "text/plain": [
       "0.4885924540036858"
      ]
     },
     "execution_count": 11,
     "metadata": {},
     "output_type": "execute_result"
    }
   ],
   "source": [
    "#positive correlated\n",
    "np.corrcoef(agg['average_stars'],  agg[\"star_customer\"])[0,1]"
   ]
  },
  {
   "cell_type": "code",
   "execution_count": 13,
   "metadata": {},
   "outputs": [
    {
     "data": {
      "text/plain": [
       "Text(0.5, 0.98, 'Hexbin plot of Customer Current and Previous Ratings')"
      ]
     },
     "execution_count": 13,
     "metadata": {},
     "output_type": "execute_result"
    },
    {
     "data": {
      "image/png": "[encoded data removed]",
      "text/plain": [
       "<Figure size 432x432 with 3 Axes>"
      ]
     },
     "metadata": {
      "needs_background": "light"
     },
     "output_type": "display_data"
    }
   ],
   "source": [
    "# Hexbin plot\n",
    "agguser = agg[:10000].groupby('user_id')[['star_customer', 'average_stars']].mean()\n",
    "\n",
    "sns.jointplot(agguser['average_stars'], agguser[\"star_customer\"], \n",
    "              kind='hex', color='maroon')\n",
    "\n",
    "plt.suptitle(\"Hexbin plot of Customer Current and Previous Ratings\", fontsize=15)\n",
    "#plt.savefig('HexbinPlot of Customer Current and Previous Ratings .png')"
   ]
  },
  {
   "cell_type": "code",
   "execution_count": 14,
   "metadata": {},
   "outputs": [
    {
     "data": {
      "text/html": [
       "<div>\n",
       "<style scoped>\n",
       "    .dataframe tbody tr th:only-of-type {\n",
       "        vertical-align: middle;\n",
       "    }\n",
       "\n",
       "    .dataframe tbody tr th {\n",
       "        vertical-align: top;\n",
       "    }\n",
       "\n",
       "    .dataframe thead th {\n",
       "        text-align: right;\n",
       "    }\n",
       "</style>\n",
       "<table border=\"1\" class=\"dataframe\">\n",
       "  <thead>\n",
       "    <tr style=\"text-align: right;\">\n",
       "      <th></th>\n",
       "      <th>average_stars</th>\n",
       "      <th>star_customer</th>\n",
       "    </tr>\n",
       "  </thead>\n",
       "  <tbody>\n",
       "    <tr>\n",
       "      <th>0</th>\n",
       "      <td>3.00</td>\n",
       "      <td>4</td>\n",
       "    </tr>\n",
       "    <tr>\n",
       "      <th>1</th>\n",
       "      <td>3.67</td>\n",
       "      <td>5</td>\n",
       "    </tr>\n",
       "    <tr>\n",
       "      <th>2</th>\n",
       "      <td>4.00</td>\n",
       "      <td>1</td>\n",
       "    </tr>\n",
       "    <tr>\n",
       "      <th>3</th>\n",
       "      <td>4.00</td>\n",
       "      <td>2</td>\n",
       "    </tr>\n",
       "    <tr>\n",
       "      <th>4</th>\n",
       "      <td>3.54</td>\n",
       "      <td>1</td>\n",
       "    </tr>\n",
       "  </tbody>\n",
       "</table>\n",
       "</div>"
      ],
      "text/plain": [
       "   average_stars  star_customer\n",
       "0           3.00              4\n",
       "1           3.67              5\n",
       "2           4.00              1\n",
       "3           4.00              2\n",
       "4           3.54              1"
      ]
     },
     "execution_count": 14,
     "metadata": {},
     "output_type": "execute_result"
    }
   ],
   "source": [
    "agg[['average_stars',\"star_customer\"]].head(5)"
   ]
  },
  {
   "cell_type": "code",
   "execution_count": 15,
   "metadata": {},
   "outputs": [],
   "source": [
    "#reweighed and rescaled consumer satisfaction measure\n",
    "\n",
    "agg['y2'] = agg['star_customer'] + (agg['star_customer']-agg['average_stars'])/agg['average_stars']\n",
    "agg['normy'] = (agg['y2'] - np.mean(agg['y2']))/np.std(agg['y2'])\n",
    "agg['y'] = ((100 - 0) / (max(agg['normy'] ) - min(agg['normy'] ))) * (agg['normy'] - min(agg['normy'])) + 0 "
   ]
  },
  {
   "cell_type": "code",
   "execution_count": 16,
   "metadata": {
    "scrolled": true
   },
   "outputs": [
    {
     "data": {
      "text/html": [
       "<div>\n",
       "<style scoped>\n",
       "    .dataframe tbody tr th:only-of-type {\n",
       "        vertical-align: middle;\n",
       "    }\n",
       "\n",
       "    .dataframe tbody tr th {\n",
       "        vertical-align: top;\n",
       "    }\n",
       "\n",
       "    .dataframe thead th {\n",
       "        text-align: right;\n",
       "    }\n",
       "</style>\n",
       "<table border=\"1\" class=\"dataframe\">\n",
       "  <thead>\n",
       "    <tr style=\"text-align: right;\">\n",
       "      <th></th>\n",
       "      <th>average_stars</th>\n",
       "      <th>star_customer</th>\n",
       "      <th>y2</th>\n",
       "      <th>normy</th>\n",
       "      <th>y</th>\n",
       "    </tr>\n",
       "  </thead>\n",
       "  <tbody>\n",
       "    <tr>\n",
       "      <th>339392</th>\n",
       "      <td>1.17</td>\n",
       "      <td>5</td>\n",
       "      <td>8.273504</td>\n",
       "      <td>2.702979</td>\n",
       "      <td>100.0</td>\n",
       "    </tr>\n",
       "  </tbody>\n",
       "</table>\n",
       "</div>"
      ],
      "text/plain": [
       "        average_stars  star_customer        y2     normy      y\n",
       "339392           1.17              5  8.273504  2.702979  100.0"
      ]
     },
     "execution_count": 16,
     "metadata": {},
     "output_type": "execute_result"
    }
   ],
   "source": [
    "#case when relative rating is high\n",
    "agg[['average_stars',\"star_customer\", \"y2\", \"normy\", \"y\"]][agg['y']==100]"
   ]
  },
  {
   "cell_type": "code",
   "execution_count": 17,
   "metadata": {},
   "outputs": [
    {
     "data": {
      "text/html": [
       "<div>\n",
       "<style scoped>\n",
       "    .dataframe tbody tr th:only-of-type {\n",
       "        vertical-align: middle;\n",
       "    }\n",
       "\n",
       "    .dataframe tbody tr th {\n",
       "        vertical-align: top;\n",
       "    }\n",
       "\n",
       "    .dataframe thead th {\n",
       "        text-align: right;\n",
       "    }\n",
       "</style>\n",
       "<table border=\"1\" class=\"dataframe\">\n",
       "  <thead>\n",
       "    <tr style=\"text-align: right;\">\n",
       "      <th></th>\n",
       "      <th>average_stars</th>\n",
       "      <th>star_customer</th>\n",
       "      <th>y2</th>\n",
       "      <th>normy</th>\n",
       "      <th>y</th>\n",
       "    </tr>\n",
       "  </thead>\n",
       "  <tbody>\n",
       "    <tr>\n",
       "      <th>453482</th>\n",
       "      <td>4.9</td>\n",
       "      <td>1</td>\n",
       "      <td>0.204082</td>\n",
       "      <td>-2.148977</td>\n",
       "      <td>0.0</td>\n",
       "    </tr>\n",
       "    <tr>\n",
       "      <th>484317</th>\n",
       "      <td>4.9</td>\n",
       "      <td>1</td>\n",
       "      <td>0.204082</td>\n",
       "      <td>-2.148977</td>\n",
       "      <td>0.0</td>\n",
       "    </tr>\n",
       "    <tr>\n",
       "      <th>588474</th>\n",
       "      <td>4.9</td>\n",
       "      <td>1</td>\n",
       "      <td>0.204082</td>\n",
       "      <td>-2.148977</td>\n",
       "      <td>0.0</td>\n",
       "    </tr>\n",
       "  </tbody>\n",
       "</table>\n",
       "</div>"
      ],
      "text/plain": [
       "        average_stars  star_customer        y2     normy    y\n",
       "453482            4.9              1  0.204082 -2.148977  0.0\n",
       "484317            4.9              1  0.204082 -2.148977  0.0\n",
       "588474            4.9              1  0.204082 -2.148977  0.0"
      ]
     },
     "execution_count": 17,
     "metadata": {},
     "output_type": "execute_result"
    }
   ],
   "source": [
    "#case when relative rating is low\n",
    "agg[['average_stars',\"star_customer\", \"y2\", \"normy\", \"y\"]][agg['y']==0]"
   ]
  },
  {
   "cell_type": "code",
   "execution_count": 18,
   "metadata": {},
   "outputs": [
    {
     "data": {
      "text/html": [
       "<div>\n",
       "<style scoped>\n",
       "    .dataframe tbody tr th:only-of-type {\n",
       "        vertical-align: middle;\n",
       "    }\n",
       "\n",
       "    .dataframe tbody tr th {\n",
       "        vertical-align: top;\n",
       "    }\n",
       "\n",
       "    .dataframe thead th {\n",
       "        text-align: right;\n",
       "    }\n",
       "</style>\n",
       "<table border=\"1\" class=\"dataframe\">\n",
       "  <thead>\n",
       "    <tr style=\"text-align: right;\">\n",
       "      <th></th>\n",
       "      <th>y2</th>\n",
       "      <th>y</th>\n",
       "    </tr>\n",
       "  </thead>\n",
       "  <tbody>\n",
       "    <tr>\n",
       "      <th>count</th>\n",
       "      <td>795588.000000</td>\n",
       "      <td>795588.000000</td>\n",
       "    </tr>\n",
       "    <tr>\n",
       "      <th>mean</th>\n",
       "      <td>3.778104</td>\n",
       "      <td>44.290935</td>\n",
       "    </tr>\n",
       "    <tr>\n",
       "      <th>std</th>\n",
       "      <td>1.663129</td>\n",
       "      <td>20.610256</td>\n",
       "    </tr>\n",
       "    <tr>\n",
       "      <th>min</th>\n",
       "      <td>0.204082</td>\n",
       "      <td>0.000000</td>\n",
       "    </tr>\n",
       "    <tr>\n",
       "      <th>25%</th>\n",
       "      <td>2.787402</td>\n",
       "      <td>32.013690</td>\n",
       "    </tr>\n",
       "    <tr>\n",
       "      <th>50%</th>\n",
       "      <td>4.089918</td>\n",
       "      <td>48.155076</td>\n",
       "    </tr>\n",
       "    <tr>\n",
       "      <th>75%</th>\n",
       "      <td>5.184834</td>\n",
       "      <td>61.723778</td>\n",
       "    </tr>\n",
       "    <tr>\n",
       "      <th>max</th>\n",
       "      <td>8.273504</td>\n",
       "      <td>100.000000</td>\n",
       "    </tr>\n",
       "  </tbody>\n",
       "</table>\n",
       "</div>"
      ],
      "text/plain": [
       "                  y2              y\n",
       "count  795588.000000  795588.000000\n",
       "mean        3.778104      44.290935\n",
       "std         1.663129      20.610256\n",
       "min         0.204082       0.000000\n",
       "25%         2.787402      32.013690\n",
       "50%         4.089918      48.155076\n",
       "75%         5.184834      61.723778\n",
       "max         8.273504     100.000000"
      ]
     },
     "execution_count": 18,
     "metadata": {},
     "output_type": "execute_result"
    }
   ],
   "source": [
    "#statistics of original scores and transformed scores\n",
    "agg[['y2','y']].describe()"
   ]
  },
  {
   "cell_type": "code",
   "execution_count": 17,
   "metadata": {},
   "outputs": [
    {
     "data": {
      "text/plain": [
       "48.15507622324547"
      ]
     },
     "execution_count": 17,
     "metadata": {},
     "output_type": "execute_result"
    }
   ],
   "source": [
    "#median>mean, y is left skewed\n",
    "np.median(agg['y'])"
   ]
  },
  {
   "cell_type": "code",
   "execution_count": 21,
   "metadata": {},
   "outputs": [],
   "source": [
    "#abbreviation\n",
    "\n",
    "#Y is the categorical star rating\n",
    "Y = agg[\"star_customer\"]\n",
    "#y is the reweighted numerical grade with 0-100 scale\n",
    "y = agg['y']"
   ]
  },
  {
   "cell_type": "code",
   "execution_count": 22,
   "metadata": {},
   "outputs": [
    {
     "data": {
      "text/plain": [
       "Text(0.5, 0.98, 'Histogram of the Consumer Satisfaction Score')"
      ]
     },
     "execution_count": 22,
     "metadata": {},
     "output_type": "execute_result"
    },
    {
     "data": {
      "image/png": "[encoded data removed]",
      "text/plain": [
       "<Figure size 432x288 with 1 Axes>"
      ]
     },
     "metadata": {
      "needs_background": "light"
     },
     "output_type": "display_data"
    }
   ],
   "source": [
    "kwargs = dict(hist_kws={'alpha':.3}, kde_kws={'linewidth':3})\n",
    "\n",
    "sns.distplot(y, bins=10, color=\"maroon\", label=\"score\", **kwargs)\n",
    "plt.xlim(0,100)\n",
    "plt.xlabel(\"Score\")\n",
    "plt.suptitle(\"Histogram of the Consumer Satisfaction Score\", fontsize=15)\n",
    "#plt.savefig(\"Histogram of the Consumer Satisfaction Score.png\")"
   ]
  },
  {
   "cell_type": "code",
   "execution_count": 24,
   "metadata": {},
   "outputs": [
    {
     "data": {
      "text/plain": [
       "Text(0.5, 1.0, 'Pie Chart of Stars Ratios')"
      ]
     },
     "execution_count": 24,
     "metadata": {},
     "output_type": "execute_result"
    },
    {
     "data": {
      "image/png": "[encoded data removed]",
      "text/plain": [
       "<Figure size 432x288 with 1 Axes>"
      ]
     },
     "metadata": {},
     "output_type": "display_data"
    }
   ],
   "source": [
    "#5    330703\n",
    "#4    202367\n",
    "#3    103878\n",
    "#1     88280\n",
    "#2     70360\n",
    "\n",
    "labels = Y.value_counts().index\n",
    "fig1, ax1 = plt.subplots()\n",
    "explode = (0.1, 0.1, 0.1, 0.1, 0.1)\n",
    "ax1.pie(Y.value_counts(),  explode = explode, labels = Y.value_counts().index,\n",
    "         autopct='%1.0f%%', startangle = 90)\n",
    "ax1.axis('equal') \n",
    "plt.legend()\n",
    "plt.title(\"Pie Chart of Stars Ratios\", fontsize = 15)\n",
    "#plt.savefig(\"Pie Chart of Stars Ratios\")"
   ]
  },
  {
   "cell_type": "markdown",
   "metadata": {},
   "source": [
    "## Independent variables"
   ]
  },
  {
   "cell_type": "markdown",
   "metadata": {},
   "source": [
    "##### Restaurants Current Total Stars and Review Counts (Prior info for consumers)"
   ]
  },
  {
   "cell_type": "code",
   "execution_count": 25,
   "metadata": {},
   "outputs": [],
   "source": [
    "X = agg[['cts_bus', 'star_bus']]\n",
    "#agg['stars_x'] = (agg['stars_x'] -np.mean(agg['stars_x']))/np.std(agg['stars_x'])\n",
    "#X.columns = ['review_count_bus', 'stars_bus']"
   ]
  },
  {
   "cell_type": "code",
   "execution_count": 26,
   "metadata": {},
   "outputs": [],
   "source": [
    "agg[\"DATE\"] = pd.to_datetime(agg[\"date\"], format = '%Y/%m/%d')\n",
    "agg[\"date_yr\"] = agg[\"DATE\"].dt.year\n",
    "agg[\"date_mt\"] = agg[\"DATE\"].dt.month"
   ]
  },
  {
   "cell_type": "code",
   "execution_count": 23,
   "metadata": {},
   "outputs": [
    {
     "data": {
      "text/html": [
       "<div>\n",
       "<style scoped>\n",
       "    .dataframe tbody tr th:only-of-type {\n",
       "        vertical-align: middle;\n",
       "    }\n",
       "\n",
       "    .dataframe tbody tr th {\n",
       "        vertical-align: top;\n",
       "    }\n",
       "\n",
       "    .dataframe thead th {\n",
       "        text-align: right;\n",
       "    }\n",
       "</style>\n",
       "<table border=\"1\" class=\"dataframe\">\n",
       "  <thead>\n",
       "    <tr style=\"text-align: right;\">\n",
       "      <th></th>\n",
       "      <th>y2</th>\n",
       "      <th>star_bus</th>\n",
       "    </tr>\n",
       "    <tr>\n",
       "      <th>quarter</th>\n",
       "      <th></th>\n",
       "      <th></th>\n",
       "    </tr>\n",
       "  </thead>\n",
       "  <tbody>\n",
       "    <tr>\n",
       "      <th>0</th>\n",
       "      <td>4.868702</td>\n",
       "      <td>3.166667</td>\n",
       "    </tr>\n",
       "    <tr>\n",
       "      <th>1</th>\n",
       "      <td>4.497323</td>\n",
       "      <td>3.812500</td>\n",
       "    </tr>\n",
       "    <tr>\n",
       "      <th>2</th>\n",
       "      <td>4.589337</td>\n",
       "      <td>3.884615</td>\n",
       "    </tr>\n",
       "    <tr>\n",
       "      <th>3</th>\n",
       "      <td>4.038806</td>\n",
       "      <td>3.623077</td>\n",
       "    </tr>\n",
       "    <tr>\n",
       "      <th>4</th>\n",
       "      <td>3.846955</td>\n",
       "      <td>3.664474</td>\n",
       "    </tr>\n",
       "  </tbody>\n",
       "</table>\n",
       "</div>"
      ],
      "text/plain": [
       "               y2  star_bus\n",
       "quarter                    \n",
       "0        4.868702  3.166667\n",
       "1        4.497323  3.812500\n",
       "2        4.589337  3.884615\n",
       "3        4.038806  3.623077\n",
       "4        3.846955  3.664474"
      ]
     },
     "execution_count": 23,
     "metadata": {},
     "output_type": "execute_result"
    }
   ],
   "source": [
    "#create quarter index\n",
    "def quarter(df):\n",
    "    \n",
    "    ind = (df[\"date_yr\"]-2005)*4\n",
    "    \n",
    "    if df[\"date_mt\"]>=1 and df[\"date_mt\"]<=3:\n",
    "        return ind+0\n",
    "    elif df[\"date_mt\"]>=4 and df[\"date_mt\"]<=6:\n",
    "        return ind+1\n",
    "    elif df[\"date_mt\"]>=7 and df[\"date_mt\"]<=9:\n",
    "        return ind+2\n",
    "    else:\n",
    "        return ind+3\n",
    "    \n",
    "agg[\"quarter\"] = agg.apply(quarter, axis=1)\n",
    "aggdate = agg.groupby([\"quarter\"])[[\"y2\", \"star_bus\"]].mean()\n",
    "aggdate.head()"
   ]
  },
  {
   "cell_type": "code",
   "execution_count": 24,
   "metadata": {},
   "outputs": [
    {
     "data": {
      "image/png": "[encoded data removed]",
      "text/plain": [
       "<Figure size 432x288 with 1 Axes>"
      ]
     },
     "metadata": {
      "needs_background": "light"
     },
     "output_type": "display_data"
    }
   ],
   "source": [
    "plt.plot(aggdate.index, aggdate[\"y2\"], '-r', label='Consumers Rating')\n",
    "plt.plot(aggdate.index, aggdate[\"star_bus\"], '--b', label='Restaurants Rating')\n",
    "plt.suptitle(\"Average Consumers and Business Ratings by Quarters\", fontsize=15)\n",
    "plt.legend()\n",
    "plt.xlabel(\"Quarters from 2007 to 2017\")\n",
    "plt.ylabel(\"Score\")\n",
    "plt.savefig(\"Average Consumers and Business Ratings by Quarters.png\")"
   ]
  },
  {
   "cell_type": "markdown",
   "metadata": {},
   "source": [
    "##### Detrending"
   ]
  },
  {
   "cell_type": "markdown",
   "metadata": {},
   "source": [
    "Problem: average rating increases every year. One possible rason: restaurants give incentives to customers who give high ratings (then the ratings and reviews might be biased)"
   ]
  },
  {
   "cell_type": "markdown",
   "metadata": {},
   "source": [
    "Across different years, the means of the scores seem to be growing. Thus the scores is not stationary. We need to de-trend this variable for the analysis. This could be done by calculating the average growth rate in scores across all 10 years and dividing each score by (1 + avg_growth_rate) ** (year - 2001)."
   ]
  },
  {
   "cell_type": "code",
   "execution_count": 25,
   "metadata": {},
   "outputs": [],
   "source": [
    "#avg_score_by_quarter =  agg.groupby([\"quarter\"])[[\"y\"]].mean().values\n",
    "\n",
    "#Calculate the average growth rate in salaries across all 50 quarters\n",
    "#avg_growth_rate = ((avg_score_by_quarter[1:] - avg_score_by_quarter[:-1]) / avg_score_by_quarter[:-1]).mean()\n",
    "#avg_growth_rate = 2.73\n",
    "\n",
    "#Divide each salary by (1 + avg_growth_rate) ** (grad_year - 2001)\n",
    "#rate = (1 + avg_growth_rate) ** (agg.index-0)\n",
    "#Data['salary_p4_new']=Data['salary_p4']/Data['rate']"
   ]
  },
  {
   "cell_type": "code",
   "execution_count": 27,
   "metadata": {},
   "outputs": [
    {
     "data": {
      "text/plain": [
       "0.14422559699761642"
      ]
     },
     "execution_count": 27,
     "metadata": {},
     "output_type": "execute_result"
    }
   ],
   "source": [
    "np.corrcoef(X[\"star_bus\"], X[\"cts_bus\"])[0,1]"
   ]
  },
  {
   "cell_type": "code",
   "execution_count": 27,
   "metadata": {},
   "outputs": [
    {
     "data": {
      "text/plain": [
       "0.3903816653656426"
      ]
     },
     "execution_count": 27,
     "metadata": {},
     "output_type": "execute_result"
    }
   ],
   "source": [
    "np.corrcoef(X[\"star_bus\"], y)[0,1]"
   ]
  },
  {
   "cell_type": "code",
   "execution_count": 28,
   "metadata": {},
   "outputs": [
    {
     "data": {
      "text/plain": [
       "0.06017165236122792"
      ]
     },
     "execution_count": 28,
     "metadata": {},
     "output_type": "execute_result"
    }
   ],
   "source": [
    "np.corrcoef(X[\"cts_bus\"],y)[0,1]"
   ]
  },
  {
   "cell_type": "code",
   "execution_count": 29,
   "metadata": {},
   "outputs": [
    {
     "data": {
      "image/png": "[encoded data removed]",
      "text/plain": [
       "<Figure size 432x432 with 3 Axes>"
      ]
     },
     "metadata": {
      "needs_background": "light"
     },
     "output_type": "display_data"
    }
   ],
   "source": [
    "#hexagonal bins\n",
    "sns.jointplot(bus['stars'], bus['review_count'],kind=\"reg\", color=\"maroon\")\n",
    "plt.suptitle(\"Jointplot of Review Counts and Stars for Restaurants\", fontsize=15)\n",
    "plt.savefig(\"stars_review.png\")"
   ]
  },
  {
   "cell_type": "code",
   "execution_count": 28,
   "metadata": {},
   "outputs": [],
   "source": [
    "#add y in for segmenting the data\n",
    "X['y']=y"
   ]
  },
  {
   "cell_type": "markdown",
   "metadata": {},
   "source": [
    "##### Gender"
   ]
  },
  {
   "cell_type": "code",
   "execution_count": 30,
   "metadata": {},
   "outputs": [
    {
     "name": "stdout",
     "output_type": "stream",
     "text": [
      "Ratio of females inferred from the names: 0.43\n"
     ]
    }
   ],
   "source": [
    "guess = gender.Detector()\n",
    "agg[\"guess\"] = [guess.get_gender(i) for i in agg[\"name_y\"]]\n",
    "X['gender'] = np.where(agg[\"guess\"].str.contains(\"female\"), 1, 0)\n",
    "print(\"Ratio of females inferred from the names:\",\n",
    "      round(X['gender'].sum()/X.shape[0], 2))"
   ]
  },
  {
   "cell_type": "code",
   "execution_count": 32,
   "metadata": {},
   "outputs": [
    {
     "data": {
      "image/png": "[encoded data removed]",
      "text/plain": [
       "<Figure size 432x288 with 1 Axes>"
      ]
     },
     "metadata": {
      "needs_background": "light"
     },
     "output_type": "display_data"
    }
   ],
   "source": [
    "sns.distplot(X[X['gender']==1]['y'], bins=10,  color=\"skyblue\", label=\"Female\")\n",
    "sns.distplot(X[X['gender']==0]['y'], bins=10, color=\"maroon\", label=\"Male\")\n",
    "plt.legend()\n",
    "plt.xlabel('Satisfaction Score')\n",
    "plt.suptitle('Histogram of Satisfaction Scores by Gender', fontsize=15)\n",
    "#plt.savefig('Histogram of Satisfaction Scores by Gender.png')"
   ]
  },
  {
   "cell_type": "code",
   "execution_count": 31,
   "metadata": {},
   "outputs": [
    {
     "data": {
      "text/html": [
       "<div>\n",
       "<style scoped>\n",
       "    .dataframe tbody tr th:only-of-type {\n",
       "        vertical-align: middle;\n",
       "    }\n",
       "\n",
       "    .dataframe tbody tr th {\n",
       "        vertical-align: top;\n",
       "    }\n",
       "\n",
       "    .dataframe thead th {\n",
       "        text-align: right;\n",
       "    }\n",
       "</style>\n",
       "<table border=\"1\" class=\"dataframe\">\n",
       "  <thead>\n",
       "    <tr style=\"text-align: right;\">\n",
       "      <th></th>\n",
       "      <th>cts_bus</th>\n",
       "      <th>star_bus</th>\n",
       "      <th>y</th>\n",
       "    </tr>\n",
       "    <tr>\n",
       "      <th>gender</th>\n",
       "      <th></th>\n",
       "      <th></th>\n",
       "      <th></th>\n",
       "    </tr>\n",
       "  </thead>\n",
       "  <tbody>\n",
       "    <tr>\n",
       "      <th>0</th>\n",
       "      <td>1018.34</td>\n",
       "      <td>3.77</td>\n",
       "      <td>43.95</td>\n",
       "    </tr>\n",
       "    <tr>\n",
       "      <th>1</th>\n",
       "      <td>1049.95</td>\n",
       "      <td>3.79</td>\n",
       "      <td>44.73</td>\n",
       "    </tr>\n",
       "  </tbody>\n",
       "</table>\n",
       "</div>"
      ],
      "text/plain": [
       "        cts_bus  star_bus      y\n",
       "gender                          \n",
       "0       1018.34      3.77  43.95\n",
       "1       1049.95      3.79  44.73"
      ]
     },
     "execution_count": 31,
     "metadata": {},
     "output_type": "execute_result"
    }
   ],
   "source": [
    "#dataframe for plot\n",
    "XG = X.groupby('gender').mean().round(2)\n",
    "XG.head()"
   ]
  },
  {
   "cell_type": "code",
   "execution_count": 34,
   "metadata": {},
   "outputs": [],
   "source": [
    "def render_mpl_table(data, col_width=3.0, row_height=0.625, font_size=14,\n",
    "                     header_color='#40466e', row_colors=['#f1f1f2', 'w'], edge_color='w',\n",
    "                     bbox=[0, 0, 1, 1], header_columns=0,\n",
    "                     ax=None, **kwargs):\n",
    "    if ax is None:\n",
    "        size = (np.array(data.shape[::-1]) + np.array([0, 1])) * np.array([col_width, row_height])\n",
    "        fig, ax = plt.subplots(figsize=size)\n",
    "        ax.axis('off')\n",
    "\n",
    "    mpl_table = ax.table(cellText=data.values, bbox=bbox, colLabels=data.columns, **kwargs)\n",
    "\n",
    "    mpl_table.auto_set_font_size(False)\n",
    "    mpl_table.set_fontsize(font_size)\n",
    "\n",
    "    for k, cell in  six.iteritems(mpl_table._cells):\n",
    "        cell.set_edgecolor(edge_color)\n",
    "        if k[0] == 0 or k[1] < header_columns:\n",
    "            cell.set_text_props(weight='bold', color='w')\n",
    "            cell.set_facecolor(header_color)\n",
    "        else:\n",
    "            cell.set_facecolor(row_colors[k[0]%len(row_colors) ])\n",
    "    return ax\n",
    "\n",
    "#render_mpl_table(XG, header_columns=0, col_width=2.0)\n",
    "#plt.savefig('gendertable.png')"
   ]
  },
  {
   "cell_type": "markdown",
   "metadata": {},
   "source": [
    "##### Weekend "
   ]
  },
  {
   "cell_type": "code",
   "execution_count": 32,
   "metadata": {},
   "outputs": [
    {
     "data": {
      "text/plain": [
       "0    0\n",
       "1    5\n",
       "2    5\n",
       "3    0\n",
       "4    2\n",
       "Name: dayofweek, dtype: int64"
      ]
     },
     "execution_count": 32,
     "metadata": {},
     "output_type": "execute_result"
    }
   ],
   "source": [
    "#Monday 0 to Sunday 6\n",
    "#Hypothesis: reviews written on Friday, Saturday, and Sunday are different from the ones written during weekdays\n",
    "agg[\"dayofweek\"] = agg[\"DATE\"].dt.dayofweek\n",
    "agg[\"dayofweek\"].head()"
   ]
  },
  {
   "cell_type": "code",
   "execution_count": 33,
   "metadata": {},
   "outputs": [],
   "source": [
    "def weekend(df):\n",
    "    \n",
    "    if df[\"dayofweek\"]==4:\n",
    "        return 1\n",
    "    elif df[\"dayofweek\"]==5:\n",
    "        return 1\n",
    "    elif df[\"dayofweek\"]==6:\n",
    "        return 1   \n",
    "    else:\n",
    "        return 0"
   ]
  },
  {
   "cell_type": "code",
   "execution_count": 34,
   "metadata": {},
   "outputs": [
    {
     "data": {
      "text/plain": [
       "0    457519\n",
       "1    338069\n",
       "Name: weekend, dtype: int64"
      ]
     },
     "execution_count": 34,
     "metadata": {},
     "output_type": "execute_result"
    }
   ],
   "source": [
    "# 0: 457519; 1: 338069\n",
    "# Percentage 0f 1: 42.49%\n",
    "X[\"weekend\"] = agg.apply(weekend, axis=1)\n",
    "X[\"weekend\"].value_counts()"
   ]
  },
  {
   "cell_type": "code",
   "execution_count": 35,
   "metadata": {},
   "outputs": [
    {
     "data": {
      "text/html": [
       "<div>\n",
       "<style scoped>\n",
       "    .dataframe tbody tr th:only-of-type {\n",
       "        vertical-align: middle;\n",
       "    }\n",
       "\n",
       "    .dataframe tbody tr th {\n",
       "        vertical-align: top;\n",
       "    }\n",
       "\n",
       "    .dataframe thead th {\n",
       "        text-align: right;\n",
       "    }\n",
       "</style>\n",
       "<table border=\"1\" class=\"dataframe\">\n",
       "  <thead>\n",
       "    <tr style=\"text-align: right;\">\n",
       "      <th></th>\n",
       "      <th>cts_bus</th>\n",
       "      <th>star_bus</th>\n",
       "      <th>y</th>\n",
       "      <th>gender</th>\n",
       "      <th>weekend</th>\n",
       "    </tr>\n",
       "  </thead>\n",
       "  <tbody>\n",
       "    <tr>\n",
       "      <th>0</th>\n",
       "      <td>13</td>\n",
       "      <td>4.0</td>\n",
       "      <td>51.171588</td>\n",
       "      <td>1</td>\n",
       "      <td>0</td>\n",
       "    </tr>\n",
       "    <tr>\n",
       "      <th>1</th>\n",
       "      <td>13</td>\n",
       "      <td>4.0</td>\n",
       "      <td>63.924229</td>\n",
       "      <td>0</td>\n",
       "      <td>1</td>\n",
       "    </tr>\n",
       "    <tr>\n",
       "      <th>2</th>\n",
       "      <td>13</td>\n",
       "      <td>4.0</td>\n",
       "      <td>0.569042</td>\n",
       "      <td>1</td>\n",
       "      <td>1</td>\n",
       "    </tr>\n",
       "    <tr>\n",
       "      <th>3</th>\n",
       "      <td>13</td>\n",
       "      <td>4.0</td>\n",
       "      <td>16.059617</td>\n",
       "      <td>0</td>\n",
       "      <td>0</td>\n",
       "    </tr>\n",
       "    <tr>\n",
       "      <th>4</th>\n",
       "      <td>13</td>\n",
       "      <td>4.0</td>\n",
       "      <td>0.971621</td>\n",
       "      <td>0</td>\n",
       "      <td>0</td>\n",
       "    </tr>\n",
       "  </tbody>\n",
       "</table>\n",
       "</div>"
      ],
      "text/plain": [
       "   cts_bus  star_bus          y  gender  weekend\n",
       "0       13       4.0  51.171588       1        0\n",
       "1       13       4.0  63.924229       0        1\n",
       "2       13       4.0   0.569042       1        1\n",
       "3       13       4.0  16.059617       0        0\n",
       "4       13       4.0   0.971621       0        0"
      ]
     },
     "execution_count": 35,
     "metadata": {},
     "output_type": "execute_result"
    }
   ],
   "source": [
    "X.head()"
   ]
  },
  {
   "cell_type": "code",
   "execution_count": 39,
   "metadata": {},
   "outputs": [
    {
     "data": {
      "text/plain": [
       "DescribeResult(nobs=457519, minmax=(0.0, 92.9387690401049), mean=44.32852731437101, variance=414.817965907403, skewness=-0.8447886814269299, kurtosis=-0.4515963427406846)"
      ]
     },
     "execution_count": 39,
     "metadata": {},
     "output_type": "execute_result"
    }
   ],
   "source": [
    "stats.describe(X[X[\"weekend\"]==0]['y'])"
   ]
  },
  {
   "cell_type": "code",
   "execution_count": 36,
   "metadata": {},
   "outputs": [
    {
     "data": {
      "text/plain": [
       "DescribeResult(nobs=338069, minmax=(0.0, 100.0), mean=44.2400611800712, variance=438.26494742589693, skewness=-0.8445914541265017, kurtosis=-0.5313442447719292)"
      ]
     },
     "execution_count": 36,
     "metadata": {},
     "output_type": "execute_result"
    }
   ],
   "source": [
    "stats.describe(X[X[\"weekend\"]==1]['y'])"
   ]
  },
  {
   "cell_type": "code",
   "execution_count": 37,
   "metadata": {},
   "outputs": [
    {
     "data": {
      "text/plain": [
       "Text(0.5, 0.98, 'Histogram of Satisfaction Scores by Weekend/Weekday')"
      ]
     },
     "execution_count": 37,
     "metadata": {},
     "output_type": "execute_result"
    },
    {
     "data": {
      "image/png": "[encoded data removed]",
      "text/plain": [
       "<Figure size 432x288 with 1 Axes>"
      ]
     },
     "metadata": {
      "needs_background": "light"
     },
     "output_type": "display_data"
    }
   ],
   "source": [
    "sns.distplot(X[X['weekend']==1]['y'], bins=10, color=\"skyblue\", label=\"weekend\")\n",
    "sns.distplot(X[X['weekend']==0]['y'], bins=10, color=\"maroon\", label=\"weekday\")\n",
    "plt.legend()\n",
    "plt.xlabel('Satisfaction Score')\n",
    "plt.suptitle('Histogram of Satisfaction Scores by Weekend/Weekday', fontsize=15)\n",
    "#plt.savefig('Histogram of Satisfaction Scores by WeekendWeekday.png')"
   ]
  },
  {
   "cell_type": "markdown",
   "metadata": {},
   "source": [
    "##### With group"
   ]
  },
  {
   "cell_type": "code",
   "execution_count": 39,
   "metadata": {},
   "outputs": [],
   "source": [
    "keywords = [\"we\", \"our\", \"us\", \"daughter\", \"son\", \"children\", \"family\",\n",
    "           \"friends\", \"friend\", \"guests\", \"buddy\", \"colleagues\", \"wife\", \"husband\", \"party\"]\n",
    "\n",
    "def withgroup(df):\n",
    "    \n",
    "    vocas = [i.lower() for i in df['text'].split()]\n",
    "    \n",
    "    for key in keywords:         \n",
    "        if key in vocas:\n",
    "            return 1  \n",
    "    return 0\n",
    "        \n",
    "#create new column for food categories\n",
    "X[\"group\"] = agg.apply(withgroup, axis=1)"
   ]
  },
  {
   "cell_type": "code",
   "execution_count": 40,
   "metadata": {},
   "outputs": [
    {
     "data": {
      "text/plain": [
       "1    405738\n",
       "0    389850\n",
       "Name: group, dtype: int64"
      ]
     },
     "execution_count": 40,
     "metadata": {},
     "output_type": "execute_result"
    }
   ],
   "source": [
    "X[\"group\"].value_counts()\n",
    "# 51% are 1 (guessed as visits with a group)"
   ]
  },
  {
   "cell_type": "code",
   "execution_count": 41,
   "metadata": {},
   "outputs": [
    {
     "data": {
      "text/plain": [
       "DescribeResult(nobs=389850, minmax=(0.0, 98.67601919501965), mean=45.33981223092453, variance=408.75750017777034, skewness=-0.9280810031957304, kurtosis=-0.28819808394458457)"
      ]
     },
     "execution_count": 41,
     "metadata": {},
     "output_type": "execute_result"
    }
   ],
   "source": [
    "stats.describe(X[X[\"group\"]==0]['y'])"
   ]
  },
  {
   "cell_type": "code",
   "execution_count": 42,
   "metadata": {},
   "outputs": [
    {
     "data": {
      "text/plain": [
       "DescribeResult(nobs=405738, minmax=(0.0, 100.0), mean=43.283130821375515, variance=438.1086089698021, skewness=-0.7687782081291415, kurtosis=-0.6473727925349837)"
      ]
     },
     "execution_count": 42,
     "metadata": {},
     "output_type": "execute_result"
    }
   ],
   "source": [
    "stats.describe(X[X[\"group\"]==1]['y'])"
   ]
  },
  {
   "cell_type": "code",
   "execution_count": 43,
   "metadata": {},
   "outputs": [
    {
     "data": {
      "text/plain": [
       "Text(0.5, 0.98, 'Histogram of Satisfaction Scores by (Not)With Groups')"
      ]
     },
     "execution_count": 43,
     "metadata": {},
     "output_type": "execute_result"
    },
    {
     "data": {
      "image/png": "[encoded data removed]",
      "text/plain": [
       "<Figure size 432x288 with 1 Axes>"
      ]
     },
     "metadata": {
      "needs_background": "light"
     },
     "output_type": "display_data"
    }
   ],
   "source": [
    "sns.distplot(X[X['group']==1]['y'], bins=10, color=\"skyblue\", label=\"group\")\n",
    "sns.distplot(X[X['group']==0]['y'], bins=10, color=\"maroon\", label=\"individual\")\n",
    "plt.legend()\n",
    "plt.xlabel('Satisfaction Score')\n",
    "plt.suptitle('Histogram of Satisfaction Scores by (Not) With Groups', fontsize=15)\n",
    "#plt.savefig('Histogram of Satisfaction Scores by (Not) With Groups.png')"
   ]
  },
  {
   "cell_type": "markdown",
   "metadata": {},
   "source": [
    "##### Food Categories"
   ]
  },
  {
   "cell_type": "code",
   "execution_count": 44,
   "metadata": {},
   "outputs": [],
   "source": [
    "Ameri = [\"American (New)\", \"American (Traditional)\", \"Burgers\", \"Chicken Wings\",\n",
    "        \"Fast Food\", \"Hot Dogs\", \"Salad\", \"Sandwiches\", \"Barbeque\"\n",
    "         \"Smokehouse\", \"Pizza\", \"Cheesesteaks\", \"Cafeteria\"]\n",
    "Europ = [\"Italian\", \"French\", \"British\", \"Hungarian\", \"lombian\",\"Portuguese\", \"German\",\n",
    "         \"Russian\", \"Spanish\", \"Ukrainian\", \"Fish & Chips\", \n",
    "         \"Greek\", \"Irish\", \"Modern European\", \"Polish\", \"Bulgarian\", \"Armenian\"]\n",
    "SouAM = [\"Mexican\", \"Argentine\", \"Cajun\", \"Caribbean\", \"Peruvian\",\n",
    "         \"Honduran\", \"Salvadoran\", \"Venezuelan\", \"Puerto Rican\", \"Tex-Mex\", \n",
    "         \"New Mexican Cuisine\", \"Nicaraguan\", \"Tacos\", \"Latin American\"]\n",
    "Asian = [\"Thai\", \"Chinese\", \"Japanese\", \"Fusion\", \"Taiwanese\",\n",
    "         \"Korean\", \"Indian\", \"Cantonese\", \"Shanghainese\", \"Szechuan\",\n",
    "         \"Dim Sum\", \"Filipino\",\"Hawaiian\", \"Curry\", \"Asian\", \"Pan Asian\",\n",
    "         \"Ramen\", \"Soba\", \"Vietnamese\", \"Singaporean\", \"Mongolian\", \n",
    "         \"Guamanian\", \"Himalayan/Nepalese\", \"Hot Pot\", \"Malaysian\",\n",
    "         \"Middle Eastern\", \"Sushi Bars\", \"Hong Kong Style Cafe\", \"Bubble Tea\"]\n",
    "MidEas = [\"Mediterranean\",\"Kebab\", \"Pakistani\", \"Persian/Iranian\", \"Falafel\", \"Lebanese\"]\n",
    "Drinks = [\"Beer\", \"Coffee\", \"Wine Bars\", \"Pubs\",  \"Wineries\", \n",
    "          \"Wine & Spirits\", \"Tea Rooms\", \"Irish Pub\", \"Juice Bars & Smoothies\", \"Bars\"]\n",
    "\n",
    "def fooddummy(df, keywords):\n",
    "    for key in keywords: \n",
    "        if key in df['categories']:\n",
    "            return 1     \n",
    "    return 0\n",
    "\n",
    "#Full List (Too slow to run through)\n",
    "FoodCate = [\"Ameri\", \"Europ\", \"SouAM\", \"Asian\", \"MidEas\", \"Drinks\"]\n",
    "FoodCateKeys = [Ameri, Europ, SouAM, Asian, MidEas, Drinks]\n",
    "\n",
    "#Simplified List (Just pick two most unique categories)\n",
    "#FoodCate = [\"Asian\", \"Drinks\"]\n",
    "#FoodCateKeys = [Asian, Drinks]\n",
    "\n",
    "#create new column for food categories\n",
    "for index, name in enumerate(FoodCate):\n",
    "    X[name] = agg.apply(fooddummy, args=(FoodCateKeys[index],), axis=1)"
   ]
  },
  {
   "cell_type": "code",
   "execution_count": 45,
   "metadata": {},
   "outputs": [],
   "source": [
    "def category(df):\n",
    "    \n",
    "    if df['Ameri']==1:\n",
    "        return 'American'\n",
    "    elif df['Europ']==1:\n",
    "        return 'Europe'\n",
    "    elif df['SouAM']==1:\n",
    "        return 'South American'\n",
    "    elif df['Asian']==1:\n",
    "        return 'Asian'\n",
    "    elif df['MidEas']==1:\n",
    "        return 'Middle East'\n",
    "    elif df['Drinks']==1:\n",
    "        return 'Bars & Drinks'\n",
    "    else:\n",
    "        return 'Others'\n",
    "    \n",
    "X['category'] = X.apply(category, axis = 1)"
   ]
  },
  {
   "cell_type": "code",
   "execution_count": 46,
   "metadata": {},
   "outputs": [
    {
     "data": {
      "text/plain": [
       "American          379859\n",
       "Asian             173051\n",
       "Europe             81179\n",
       "Others             69998\n",
       "South American     60540\n",
       "Bars & Drinks      27944\n",
       "Middle East         3017\n",
       "Name: category, dtype: int64"
      ]
     },
     "execution_count": 46,
     "metadata": {},
     "output_type": "execute_result"
    }
   ],
   "source": [
    "X['category'].value_counts()"
   ]
  },
  {
   "cell_type": "code",
   "execution_count": 108,
   "metadata": {},
   "outputs": [
    {
     "data": {
      "text/plain": [
       "0.0037921637832647047"
      ]
     },
     "execution_count": 108,
     "metadata": {},
     "output_type": "execute_result"
    }
   ],
   "source": [
    "3017/(379859+173051+81026+69998+60693+27944+3017)"
   ]
  },
  {
   "cell_type": "markdown",
   "metadata": {},
   "source": [
    "###### Overlapping densities visualization"
   ]
  },
  {
   "cell_type": "markdown",
   "metadata": {},
   "source": [
    "https://seaborn.pydata.org/generated/seaborn.kdeplot.html\n",
    "\n",
    "https://seaborn.pydata.org/examples/kde_ridgeplot.html    "
   ]
  },
  {
   "cell_type": "code",
   "execution_count": 50,
   "metadata": {},
   "outputs": [
    {
     "data": {
      "text/plain": [
       "Text(0.5, 8.959999999999866, 'score')"
      ]
     },
     "execution_count": 50,
     "metadata": {},
     "output_type": "execute_result"
    },
    {
     "data": {
      "text/plain": [
       "<Figure size 576x720 with 0 Axes>"
      ]
     },
     "metadata": {},
     "output_type": "display_data"
    },
    {
     "data": {
      "image/png": "[encoded data removed]",
      "text/plain": [
       "<Figure size 432x504 with 7 Axes>"
      ]
     },
     "metadata": {},
     "output_type": "display_data"
    }
   ],
   "source": [
    "sns.set(style=\"white\", rc={\"axes.facecolor\": (0, 0, 0, 0)})\n",
    "plt.figure(figsize = (8,10))\n",
    "\n",
    "# Initialize the FacetGrid object\n",
    "pal = sns.cubehelix_palette(10, rot=-.25, light=.7)\n",
    "g = sns.FacetGrid(X, row=\"category\", hue=\"category\", aspect=6, height=1, palette=pal)\n",
    "\n",
    "# Draw the densities in a few steps\n",
    "g.map(sns.kdeplot, \"y\", clip_on=False, shade=True, color=\"r\", gridsize=8, alpha=0.5, lw=2, bw=.2)\n",
    "g.map(sns.kdeplot, \"y\", clip_on=False, color=\"r\", gridsize=8,  lw=2, bw=.2)\n",
    "g.map(plt.axhline, y=0, lw=2, color=\"r\", clip_on=False)\n",
    "\n",
    "\n",
    "# Define and use a simple function to label the plot in axes coordinates\n",
    "def label(x, color, label):\n",
    "    ax = plt.gca()\n",
    "    ax.text(0, .4, label, fontweight=\"bold\", color=\"b\",\n",
    "            ha=\"left\", va=\"center\", transform=ax.transAxes)\n",
    "\n",
    "g.map(label, \"y\")\n",
    "\n",
    "# Set the subplots to overlap\n",
    "g.fig.subplots_adjust(hspace=-0.0)\n",
    "\n",
    "# Remove axes details that don't play well with overlap\n",
    "g.set_titles(\"\")\n",
    "g.set(yticks=[])\n",
    "g.despine(bottom=True, left=True)\n",
    "plt.suptitle('Densities of Scores by Restaurants Categories', fontsize=15)\n",
    "plt.xlabel('score')\n",
    "#plt.savefig(\"DensitiesCategories.png\")"
   ]
  },
  {
   "cell_type": "code",
   "execution_count": 48,
   "metadata": {},
   "outputs": [],
   "source": [
    "#Coorelation Matrix Heatmap\n",
    "\n",
    "#plt.matshow(X.corr())\n",
    "#plt.xticks(range(len(X.columns)), X.columns)\n",
    "#plt.yticks(range(len(X.columns)), X.columns)\n",
    "#plt.colorbar()"
   ]
  },
  {
   "cell_type": "markdown",
   "metadata": {},
   "source": [
    "### Machine Learning"
   ]
  },
  {
   "cell_type": "markdown",
   "metadata": {},
   "source": [
    "#### Preview data"
   ]
  },
  {
   "cell_type": "code",
   "execution_count": 51,
   "metadata": {},
   "outputs": [
    {
     "data": {
      "text/html": [
       "<div>\n",
       "<style scoped>\n",
       "    .dataframe tbody tr th:only-of-type {\n",
       "        vertical-align: middle;\n",
       "    }\n",
       "\n",
       "    .dataframe tbody tr th {\n",
       "        vertical-align: top;\n",
       "    }\n",
       "\n",
       "    .dataframe thead th {\n",
       "        text-align: right;\n",
       "    }\n",
       "</style>\n",
       "<table border=\"1\" class=\"dataframe\">\n",
       "  <thead>\n",
       "    <tr style=\"text-align: right;\">\n",
       "      <th></th>\n",
       "      <th>cts_bus</th>\n",
       "      <th>star_bus</th>\n",
       "      <th>gender</th>\n",
       "      <th>weekend</th>\n",
       "      <th>group</th>\n",
       "      <th>Ameri</th>\n",
       "      <th>Europ</th>\n",
       "      <th>SouAM</th>\n",
       "      <th>Asian</th>\n",
       "      <th>MidEas</th>\n",
       "      <th>Drinks</th>\n",
       "    </tr>\n",
       "  </thead>\n",
       "  <tbody>\n",
       "    <tr>\n",
       "      <th>0</th>\n",
       "      <td>13</td>\n",
       "      <td>4.0</td>\n",
       "      <td>1</td>\n",
       "      <td>0</td>\n",
       "      <td>0</td>\n",
       "      <td>1</td>\n",
       "      <td>0</td>\n",
       "      <td>0</td>\n",
       "      <td>0</td>\n",
       "      <td>0</td>\n",
       "      <td>1</td>\n",
       "    </tr>\n",
       "    <tr>\n",
       "      <th>1</th>\n",
       "      <td>13</td>\n",
       "      <td>4.0</td>\n",
       "      <td>0</td>\n",
       "      <td>1</td>\n",
       "      <td>1</td>\n",
       "      <td>1</td>\n",
       "      <td>0</td>\n",
       "      <td>0</td>\n",
       "      <td>0</td>\n",
       "      <td>0</td>\n",
       "      <td>1</td>\n",
       "    </tr>\n",
       "    <tr>\n",
       "      <th>2</th>\n",
       "      <td>13</td>\n",
       "      <td>4.0</td>\n",
       "      <td>1</td>\n",
       "      <td>1</td>\n",
       "      <td>1</td>\n",
       "      <td>1</td>\n",
       "      <td>0</td>\n",
       "      <td>0</td>\n",
       "      <td>0</td>\n",
       "      <td>0</td>\n",
       "      <td>1</td>\n",
       "    </tr>\n",
       "    <tr>\n",
       "      <th>3</th>\n",
       "      <td>13</td>\n",
       "      <td>4.0</td>\n",
       "      <td>0</td>\n",
       "      <td>0</td>\n",
       "      <td>1</td>\n",
       "      <td>1</td>\n",
       "      <td>0</td>\n",
       "      <td>0</td>\n",
       "      <td>0</td>\n",
       "      <td>0</td>\n",
       "      <td>1</td>\n",
       "    </tr>\n",
       "    <tr>\n",
       "      <th>4</th>\n",
       "      <td>13</td>\n",
       "      <td>4.0</td>\n",
       "      <td>0</td>\n",
       "      <td>0</td>\n",
       "      <td>0</td>\n",
       "      <td>1</td>\n",
       "      <td>0</td>\n",
       "      <td>0</td>\n",
       "      <td>0</td>\n",
       "      <td>0</td>\n",
       "      <td>1</td>\n",
       "    </tr>\n",
       "  </tbody>\n",
       "</table>\n",
       "</div>"
      ],
      "text/plain": [
       "   cts_bus  star_bus  gender  weekend  group  Ameri  Europ  SouAM  Asian  \\\n",
       "0       13       4.0       1        0      0      1      0      0      0   \n",
       "1       13       4.0       0        1      1      1      0      0      0   \n",
       "2       13       4.0       1        1      1      1      0      0      0   \n",
       "3       13       4.0       0        0      1      1      0      0      0   \n",
       "4       13       4.0       0        0      0      1      0      0      0   \n",
       "\n",
       "   MidEas  Drinks  \n",
       "0       0       1  \n",
       "1       0       1  \n",
       "2       0       1  \n",
       "3       0       1  \n",
       "4       0       1  "
      ]
     },
     "execution_count": 51,
     "metadata": {},
     "output_type": "execute_result"
    }
   ],
   "source": [
    "X = X.drop([\"y\", \"category\"], axis=1)\n",
    "X.head()"
   ]
  },
  {
   "cell_type": "code",
   "execution_count": 49,
   "metadata": {},
   "outputs": [
    {
     "data": {
      "text/plain": [
       "0    51.171588\n",
       "1    63.924229\n",
       "2     0.569042\n",
       "3    16.059617\n",
       "4     0.971621\n",
       "5    48.303911\n",
       "6    59.433228\n",
       "7    47.040768\n",
       "8    59.433228\n",
       "9    59.433228\n",
       "Name: y, dtype: float64"
      ]
     },
     "execution_count": 49,
     "metadata": {},
     "output_type": "execute_result"
    }
   ],
   "source": [
    "y[:10]"
   ]
  },
  {
   "cell_type": "code",
   "execution_count": 52,
   "metadata": {},
   "outputs": [
    {
     "data": {
      "text/plain": [
       "((795588, 11), (795588,))"
      ]
     },
     "execution_count": 52,
     "metadata": {},
     "output_type": "execute_result"
    }
   ],
   "source": [
    "#make sure the rows number match!\n",
    "(X.shape,y.shape)"
   ]
  },
  {
   "cell_type": "markdown",
   "metadata": {},
   "source": [
    "##### Feature importance using Random Forest"
   ]
  },
  {
   "cell_type": "code",
   "execution_count": 53,
   "metadata": {},
   "outputs": [
    {
     "name": "stdout",
     "output_type": "stream",
     "text": [
      "cts_bus 0.16534131210167702\n",
      "star_bus 0.7090972852750612\n",
      "gender 0.020648427832941484\n",
      "weekend 0.033040524879725655\n",
      "group 0.017751471135395686\n",
      "Ameri 0.012062897641024204\n",
      "Europ 0.007286078036036789\n",
      "SouAM 0.010035831794529968\n",
      "Asian 0.011018035175814572\n",
      "MidEas 0.003078170308981855\n",
      "Drinks 0.010639965818811749\n"
     ]
    }
   ],
   "source": [
    "from sklearn.ensemble import RandomForestRegressor\n",
    "rfc= RandomForestRegressor(n_estimators=100,n_jobs=4).fit(X, y)\n",
    "for name,score in zip(X.columns,rfc.feature_importances_):\n",
    "    print(name,score)"
   ]
  },
  {
   "cell_type": "code",
   "execution_count": 56,
   "metadata": {},
   "outputs": [
    {
     "data": {
      "image/png": "[encoded data removed]",
      "text/plain": [
       "<Figure size 504x540 with 1 Axes>"
      ]
     },
     "metadata": {},
     "output_type": "display_data"
    }
   ],
   "source": [
    "imp = pd.DataFrame({\"features\":X.columns, \"score\": rfc.feature_importances_})\n",
    "imp = imp.sort_values(by='score', ascending=False)\n",
    "imp = imp.round(2)\n",
    "render_mpl_table(imp, header_columns=0, col_width=3.5)\n",
    "plt.savefig('importance.png')"
   ]
  },
  {
   "cell_type": "code",
   "execution_count": 111,
   "metadata": {
    "scrolled": true
   },
   "outputs": [
    {
     "data": {
      "image/png": "[encoded data removed]",
      "text/plain": [
       "<Figure size 432x288 with 1 Axes>"
      ]
     },
     "metadata": {},
     "output_type": "display_data"
    }
   ],
   "source": [
    "plt.hlines(y=imp[\"features\"], xmin=0, xmax=imp['score'],\n",
    "           linestyles ='dashed', color='maroon')\n",
    "\n",
    "plt.plot(imp['score'], imp[\"features\"], \">\", color='maroon')\n",
    " \n",
    "plt.yticks(imp[\"features\"])\n",
    "plt.title(\"Relative Features Importance\", loc='center', fontsize=15)\n",
    "plt.xlabel('scores')\n",
    "#plt.savefig(\"Relative Features Importance.png\")"
   ]
  },
  {
   "cell_type": "markdown",
   "metadata": {},
   "source": [
    "Random Forest measures the relative importance of each predictor by counting the number of associated training samples in the 500 trees. The five most importance features are ..."
   ]
  },
  {
   "cell_type": "markdown",
   "metadata": {},
   "source": [
    "The food categories are not important at all for predicting customer satisfaction. So we delete them from machine learning models."
   ]
  },
  {
   "cell_type": "code",
   "execution_count": 58,
   "metadata": {},
   "outputs": [
    {
     "data": {
      "text/html": [
       "<div>\n",
       "<style scoped>\n",
       "    .dataframe tbody tr th:only-of-type {\n",
       "        vertical-align: middle;\n",
       "    }\n",
       "\n",
       "    .dataframe tbody tr th {\n",
       "        vertical-align: top;\n",
       "    }\n",
       "\n",
       "    .dataframe thead th {\n",
       "        text-align: right;\n",
       "    }\n",
       "</style>\n",
       "<table border=\"1\" class=\"dataframe\">\n",
       "  <thead>\n",
       "    <tr style=\"text-align: right;\">\n",
       "      <th></th>\n",
       "      <th>cts_bus</th>\n",
       "      <th>star_bus</th>\n",
       "      <th>gender</th>\n",
       "      <th>weekend</th>\n",
       "      <th>group</th>\n",
       "    </tr>\n",
       "  </thead>\n",
       "  <tbody>\n",
       "    <tr>\n",
       "      <th>0</th>\n",
       "      <td>13</td>\n",
       "      <td>4.0</td>\n",
       "      <td>1</td>\n",
       "      <td>0</td>\n",
       "      <td>0</td>\n",
       "    </tr>\n",
       "    <tr>\n",
       "      <th>1</th>\n",
       "      <td>13</td>\n",
       "      <td>4.0</td>\n",
       "      <td>0</td>\n",
       "      <td>1</td>\n",
       "      <td>1</td>\n",
       "    </tr>\n",
       "    <tr>\n",
       "      <th>2</th>\n",
       "      <td>13</td>\n",
       "      <td>4.0</td>\n",
       "      <td>1</td>\n",
       "      <td>1</td>\n",
       "      <td>1</td>\n",
       "    </tr>\n",
       "    <tr>\n",
       "      <th>3</th>\n",
       "      <td>13</td>\n",
       "      <td>4.0</td>\n",
       "      <td>0</td>\n",
       "      <td>0</td>\n",
       "      <td>1</td>\n",
       "    </tr>\n",
       "    <tr>\n",
       "      <th>4</th>\n",
       "      <td>13</td>\n",
       "      <td>4.0</td>\n",
       "      <td>0</td>\n",
       "      <td>0</td>\n",
       "      <td>0</td>\n",
       "    </tr>\n",
       "  </tbody>\n",
       "</table>\n",
       "</div>"
      ],
      "text/plain": [
       "   cts_bus  star_bus  gender  weekend  group\n",
       "0       13       4.0       1        0      0\n",
       "1       13       4.0       0        1      1\n",
       "2       13       4.0       1        1      1\n",
       "3       13       4.0       0        0      1\n",
       "4       13       4.0       0        0      0"
      ]
     },
     "execution_count": 58,
     "metadata": {},
     "output_type": "execute_result"
    }
   ],
   "source": [
    "X=X.drop([\"Ameri\", \"Europ\", \"SouAM\", \"Asian\", \"MidEas\", \"Drinks\"], axis=1)\n",
    "X.head()"
   ]
  },
  {
   "cell_type": "markdown",
   "metadata": {},
   "source": [
    "##### Training and testing sets"
   ]
  },
  {
   "cell_type": "code",
   "execution_count": 56,
   "metadata": {},
   "outputs": [],
   "source": [
    "#Divide the data into training and test set, with ratio 3:1 (test=25%).\n",
    "X_train, X_test, y_train, y_test = train_test_split(X, y, random_state=0)\n",
    "scaler = MinMaxScaler()\n",
    "X_train = scaler.fit_transform(X_train)\n",
    "X_test = scaler.fit_transform(X_test)"
   ]
  },
  {
   "cell_type": "markdown",
   "metadata": {},
   "source": [
    " experiment with only most important features\n",
    "X_train, X_test, y_train, y_test = train_test_split(X[[\"sentiment\", \"stars_x\"]] , y, random_state=0)"
   ]
  },
  {
   "cell_type": "markdown",
   "metadata": {},
   "source": [
    "##### Linear Regression"
   ]
  },
  {
   "cell_type": "code",
   "execution_count": 57,
   "metadata": {},
   "outputs": [],
   "source": [
    "lin = LinearRegression().fit(X_train, y_train)"
   ]
  },
  {
   "cell_type": "code",
   "execution_count": 58,
   "metadata": {},
   "outputs": [
    {
     "name": "stdout",
     "output_type": "stream",
     "text": [
      "Mean: 358.43\n",
      "Standard deviation: 1.06\n"
     ]
    }
   ],
   "source": [
    "linkf = cross_val_score(lin, X_train, y_train, cv=5, \n",
    "                      scoring=\"neg_mean_squared_error\")\n",
    "print(\"Mean:\",round(-linkf.mean(),2))\n",
    "print(\"Standard deviation:\",round(linkf.std(),2))"
   ]
  },
  {
   "cell_type": "code",
   "execution_count": 62,
   "metadata": {},
   "outputs": [
    {
     "data": {
      "text/plain": [
       "array([ 0.75585888, 56.16279381,  0.76078494, -0.18947821, -2.50833473])"
      ]
     },
     "execution_count": 62,
     "metadata": {},
     "output_type": "execute_result"
    }
   ],
   "source": [
    "lin.coef_"
   ]
  },
  {
   "cell_type": "code",
   "execution_count": 59,
   "metadata": {},
   "outputs": [
    {
     "data": {
      "text/plain": [
       "6.555260234425063"
      ]
     },
     "execution_count": 59,
     "metadata": {},
     "output_type": "execute_result"
    }
   ],
   "source": [
    "lin.intercept_"
   ]
  },
  {
   "cell_type": "code",
   "execution_count": 60,
   "metadata": {},
   "outputs": [],
   "source": [
    "lin_full = LinearRegression().fit(X, y)"
   ]
  },
  {
   "cell_type": "code",
   "execution_count": 61,
   "metadata": {},
   "outputs": [
    {
     "name": "stdout",
     "output_type": "stream",
     "text": [
      "                            OLS Regression Results                            \n",
      "==============================================================================\n",
      "Dep. Variable:                      y   R-squared:                       0.157\n",
      "Model:                            OLS   Adj. R-squared:                  0.157\n",
      "Method:                 Least Squares   F-statistic:                 1.014e+04\n",
      "Date:                Mon, 23 Sep 2019   Prob (F-statistic):               0.00\n",
      "Time:                        15:04:55   Log-Likelihood:            -2.6014e+06\n",
      "No. Observations:              596691   AIC:                         5.203e+06\n",
      "Df Residuals:                  596679   BIC:                         5.203e+06\n",
      "Df Model:                          11                                         \n",
      "Covariance Type:            nonrobust                                         \n",
      "==============================================================================\n",
      "                 coef    std err          t      P>|t|      [0.025      0.975]\n",
      "------------------------------------------------------------------------------\n",
      "const          6.5553      0.136     48.330      0.000       6.289       6.821\n",
      "x1             0.8203      0.139      5.891      0.000       0.547       1.093\n",
      "x2            55.8328      0.175    319.479      0.000      55.490      56.175\n",
      "x3             0.7660      0.050     15.402      0.000       0.669       0.864\n",
      "x4            -0.1862      0.050     -3.753      0.000      -0.283      -0.089\n",
      "x5            -2.5347      0.050    -51.182      0.000      -2.632      -2.438\n",
      "x6            -0.6189      0.058    -10.764      0.000      -0.732      -0.506\n",
      "x7             0.3205      0.076      4.245      0.000       0.173       0.468\n",
      "x8            -0.0594      0.084     -0.704      0.481      -0.225       0.106\n",
      "x9             0.0894      0.068      1.317      0.188      -0.044       0.222\n",
      "x10            0.0083      0.155      0.054      0.957      -0.296       0.313\n",
      "x11            0.1013      0.052      1.935      0.053      -0.001       0.204\n",
      "==============================================================================\n",
      "Omnibus:                    43230.738   Durbin-Watson:                   1.999\n",
      "Prob(Omnibus):                  0.000   Jarque-Bera (JB):            53284.196\n",
      "Skew:                          -0.730   Prob(JB):                         0.00\n",
      "Kurtosis:                       2.891   Cond. No.                         14.3\n",
      "==============================================================================\n",
      "\n",
      "Warnings:\n",
      "[1] Standard Errors assume that the covariance matrix of the errors is correctly specified.\n"
     ]
    }
   ],
   "source": [
    "import statsmodels.api as sm\n",
    "X2=sm.add_constant(X_train)\n",
    "model = sm.OLS(y_train, X2).fit()\n",
    "#predictions = model.predict(X) \n",
    "print_model = model.summary()\n",
    "print(print_model)"
   ]
  },
  {
   "cell_type": "markdown",
   "metadata": {},
   "source": [
    "##### Lasso Regression\n"
   ]
  },
  {
   "cell_type": "code",
   "execution_count": 62,
   "metadata": {},
   "outputs": [],
   "source": [
    "las = Lasso().fit(X_train, y_train)"
   ]
  },
  {
   "cell_type": "code",
   "execution_count": 69,
   "metadata": {},
   "outputs": [
    {
     "name": "stdout",
     "output_type": "stream",
     "text": [
      "GridBestEstimatorLasso= Lasso(alpha=0.0, copy_X=True, fit_intercept=True, max_iter=1000,\n",
      "   normalize=False, positive=False, precompute=False, random_state=None,\n",
      "   selection='cyclic', tol=0.0001, warm_start=False)\n",
      "GridBestParamsLasso= {'alpha': 0.0}\n",
      "GridBestScoreLasso= 358.4295280251278\n"
     ]
    }
   ],
   "source": [
    "alpha_grid = {\"alpha\":np.linspace(0,5,200)}\n",
    "grid_search2 = GridSearchCV(las, param_grid=alpha_grid, n_jobs=4, cv=5,\n",
    "                       scoring='neg_mean_squared_error').fit(X_train,y_train)\n",
    "print('GridBestEstimatorLasso=', grid_search2.best_estimator_)\n",
    "print('GridBestParamsLasso=', grid_search2.best_params_)\n",
    "print('GridBestScoreLasso=', -grid_search2.best_score_)"
   ]
  },
  {
   "cell_type": "code",
   "execution_count": 70,
   "metadata": {},
   "outputs": [
    {
     "name": "stdout",
     "output_type": "stream",
     "text": [
      "Mean: 358.43\n",
      "Standard deviation: 1.06\n"
     ]
    }
   ],
   "source": [
    "las = Lasso(alpha=grid_search2.best_params_['alpha']).fit(X_train, y_train)\n",
    "laskf = cross_val_score(las, X_train, y_train, cv=5, \n",
    "                      scoring=\"neg_mean_squared_error\")\n",
    "print(\"Mean:\", round(-laskf.mean(),2))\n",
    "print(\"Standard deviation:\",round(laskf.std(),2))"
   ]
  },
  {
   "cell_type": "code",
   "execution_count": 71,
   "metadata": {},
   "outputs": [
    {
     "data": {
      "text/plain": [
       "array([ 8.20274356e-01,  5.58328182e+01,  7.66031335e-01, -1.86186706e-01,\n",
       "       -2.53465278e+00, -6.18930388e-01,  3.20490485e-01, -5.93524694e-02,\n",
       "        8.93589861e-02,  8.31330807e-03,  1.01268814e-01])"
      ]
     },
     "execution_count": 71,
     "metadata": {},
     "output_type": "execute_result"
    }
   ],
   "source": [
    "las.coef_"
   ]
  },
  {
   "cell_type": "markdown",
   "metadata": {},
   "source": [
    "##### Ridge Regression"
   ]
  },
  {
   "cell_type": "code",
   "execution_count": 72,
   "metadata": {},
   "outputs": [],
   "source": [
    "rid = Ridge(alpha=1).fit(X_train, y_train)"
   ]
  },
  {
   "cell_type": "code",
   "execution_count": 73,
   "metadata": {},
   "outputs": [
    {
     "name": "stdout",
     "output_type": "stream",
     "text": [
      "GridBestEstimatorRidge= Ridge(alpha=1.0, copy_X=True, fit_intercept=True, max_iter=None,\n",
      "   normalize=False, random_state=None, solver='auto', tol=0.001)\n",
      "GridBestParamsRidge {'alpha': 1.0}\n",
      "GridBestScoreRidge= 358.4295284663578\n"
     ]
    }
   ],
   "source": [
    "alpha_grid = {\"alpha\":np.linspace(1,50,1000)}\n",
    "grid_search1 = GridSearchCV(rid, param_grid=alpha_grid, n_jobs=4, cv=5,\n",
    "                       scoring='neg_mean_squared_error').fit(X_train,y_train)\n",
    "print('GridBestEstimatorRidge=', grid_search1.best_estimator_)\n",
    "print('GridBestParamsRidge', grid_search1.best_params_)\n",
    "print('GridBestScoreRidge=', -grid_search1.best_score_)"
   ]
  },
  {
   "cell_type": "code",
   "execution_count": 74,
   "metadata": {},
   "outputs": [
    {
     "name": "stdout",
     "output_type": "stream",
     "text": [
      "Mean: 358.43\n",
      "Standard deviation: 1.06\n"
     ]
    }
   ],
   "source": [
    "rid = Ridge(alpha=grid_search1.best_params_['alpha']).fit(X_train, y_train)\n",
    "ridkf = cross_val_score(rid, X_train, y_train, cv=5, scoring=\"neg_mean_squared_error\")\n",
    "print(\"Mean:\",round(-ridkf.mean(),2))\n",
    "print(\"Standard deviation:\",round(ridkf.std(),2))"
   ]
  },
  {
   "cell_type": "markdown",
   "metadata": {},
   "source": [
    "##### Bayesian Ridge Regression"
   ]
  },
  {
   "cell_type": "markdown",
   "metadata": {},
   "source": [
    "https://scikit-learn.org/stable/auto_examples/linear_model/plot_bayesian_ridge.html#sphx-glr-auto-examples-linear-model-plot-bayesian-ridge-py"
   ]
  },
  {
   "cell_type": "markdown",
   "metadata": {},
   "source": [
    "http://citeseerx.ist.psu.edu/viewdoc/download?doi=10.1.1.27.9072&rep=rep1&type=pdf"
   ]
  },
  {
   "cell_type": "code",
   "execution_count": 75,
   "metadata": {},
   "outputs": [
    {
     "name": "stdout",
     "output_type": "stream",
     "text": [
      "Mean: 358.43\n",
      "Standard deviation: 1.06\n"
     ]
    }
   ],
   "source": [
    "bay = BayesianRidge().fit(X_train, y_train)\n",
    "baykf=cross_val_score(bay, X_train, y_train, cv=5, \n",
    "                      scoring=\"neg_mean_squared_error\")\n",
    "print(\"Mean:\",round(-baykf.mean(),2))\n",
    "print(\"Standard deviation:\",round(baykf.std(),2))"
   ]
  },
  {
   "cell_type": "markdown",
   "metadata": {},
   "source": [
    "##### Decision Tree"
   ]
  },
  {
   "cell_type": "code",
   "execution_count": 76,
   "metadata": {},
   "outputs": [],
   "source": [
    "tree = DecisionTreeRegressor().fit(X_train, y_train)"
   ]
  },
  {
   "cell_type": "code",
   "execution_count": 77,
   "metadata": {},
   "outputs": [
    {
     "name": "stdout",
     "output_type": "stream",
     "text": [
      "RandBestEstimatorTree= DecisionTreeRegressor(criterion='mse', max_depth=6, max_features=None,\n",
      "           max_leaf_nodes=None, min_impurity_decrease=0.0,\n",
      "           min_impurity_split=None, min_samples_leaf=64,\n",
      "           min_samples_split=92, min_weight_fraction_leaf=0.0,\n",
      "           presort=False, random_state=None, splitter='best')\n",
      "RandBestParamsTree= {'max_depth': 6, 'min_samples_leaf': 64, 'min_samples_split': 92}\n",
      "RandBestScoreTree= -357.7829235913748\n"
     ]
    }
   ],
   "source": [
    "param_dist_tree = {'max_depth': sp_randint(2, 100),\n",
    "               'min_samples_split': sp_randint(2, 100),\n",
    "               'min_samples_leaf': sp_randint(2, 100)}\n",
    "\n",
    "random_search_tree = RandomizedSearchCV(tree, param_distributions=param_dist_tree,\n",
    "                       n_jobs=4, cv=5, random_state=25,\n",
    "                       scoring='neg_mean_squared_error').fit(X_train, y_train)\n",
    "\n",
    "print('RandBestEstimatorTree=', random_search_tree.best_estimator_)\n",
    "print('RandBestParamsTree=', random_search_tree.best_params_)\n",
    "print('RandBestScoreTree=', random_search_tree.best_score_)"
   ]
  },
  {
   "cell_type": "code",
   "execution_count": 78,
   "metadata": {},
   "outputs": [],
   "source": [
    "bptree=random_search_tree.best_params_\n",
    "tree = DecisionTreeRegressor(max_depth = bptree['max_depth'],\n",
    "                             min_samples_leaf = bptree['min_samples_leaf'],\n",
    "                             min_samples_split = bptree['min_samples_split']).fit(X_train, y_train)"
   ]
  },
  {
   "cell_type": "code",
   "execution_count": 79,
   "metadata": {},
   "outputs": [
    {
     "name": "stdout",
     "output_type": "stream",
     "text": [
      "Mean: 357.78\n",
      "Standard deviation: 1.04\n"
     ]
    }
   ],
   "source": [
    "treekf=cross_val_score(tree, X_train, y_train, cv=5, \n",
    "                      scoring=\"neg_mean_squared_error\")\n",
    "print(\"Mean:\",round(-treekf.mean(),2))\n",
    "print(\"Standard deviation:\",round(treekf.std(),2))"
   ]
  },
  {
   "cell_type": "markdown",
   "metadata": {},
   "source": [
    "##### Random Forest"
   ]
  },
  {
   "cell_type": "code",
   "execution_count": 80,
   "metadata": {},
   "outputs": [],
   "source": [
    "rfr = RandomForestRegressor().fit(X_train, y_train)"
   ]
  },
  {
   "cell_type": "code",
   "execution_count": 81,
   "metadata": {},
   "outputs": [
    {
     "name": "stdout",
     "output_type": "stream",
     "text": [
      "RandBestEstimatorrfr= RandomForestRegressor(bootstrap=True, criterion='mse', max_depth=11,\n",
      "           max_features=4, max_leaf_nodes=None, min_impurity_decrease=0.0,\n",
      "           min_impurity_split=None, min_samples_leaf=17,\n",
      "           min_samples_split=18, min_weight_fraction_leaf=0.0,\n",
      "           n_estimators=102, n_jobs=None, oob_score=False,\n",
      "           random_state=None, verbose=0, warm_start=False)\n",
      "RandBestParamsrfr= {'max_depth': 11, 'max_features': 4, 'min_samples_leaf': 17, 'min_samples_split': 18, 'n_estimators': 102}\n",
      "RandBestScorerfr= 356.97362798750225\n"
     ]
    }
   ],
   "source": [
    "param_dist_rfr = {'n_estimators':sp_randint(10, 200),\n",
    "               'max_depth': sp_randint(5, 20),\n",
    "               'min_samples_split': sp_randint(0, 20),\n",
    "               'min_samples_leaf': sp_randint(0, 20),\n",
    "               'max_features':sp_randint(1,5)}\n",
    "\n",
    "random_search_rfr = RandomizedSearchCV(rfr, param_distributions=param_dist_rfr,\n",
    "                        n_jobs=4, cv=5, random_state=25,\n",
    "                       scoring='neg_mean_squared_error').fit(X_train, y_train)\n",
    "\n",
    "print('RandBestEstimatorrfr=', random_search_rfr.best_estimator_)\n",
    "print('RandBestParamsrfr=', random_search_rfr.best_params_)\n",
    "print('RandBestScorerfr=', -random_search_rfr.best_score_)"
   ]
  },
  {
   "cell_type": "code",
   "execution_count": 82,
   "metadata": {},
   "outputs": [],
   "source": [
    "bprfr=random_search_rfr.best_params_\n",
    "rfr = RandomForestRegressor(max_depth = bprfr['max_depth'],\n",
    "                             max_features = bprfr['max_features'],\n",
    "                             min_samples_leaf = bprfr['min_samples_leaf'],\n",
    "                             min_samples_split = bprfr['min_samples_split']).fit(X_train, y_train)"
   ]
  },
  {
   "cell_type": "code",
   "execution_count": 83,
   "metadata": {},
   "outputs": [
    {
     "name": "stdout",
     "output_type": "stream",
     "text": [
      "Mean: 357.28\n",
      "Standard deviation: 0.92\n"
     ]
    }
   ],
   "source": [
    "rfrkf=cross_val_score(rfr, X_train, y_train, cv=5, \n",
    "                      scoring=\"neg_mean_squared_error\")\n",
    "print(\"Mean:\",round(-rfrkf.mean(),2))\n",
    "print(\"Standard deviation:\",round(rfrkf.std(),2))"
   ]
  },
  {
   "cell_type": "markdown",
   "metadata": {},
   "source": [
    "##### Gradient Boosting"
   ]
  },
  {
   "cell_type": "code",
   "execution_count": 85,
   "metadata": {},
   "outputs": [
    {
     "name": "stdout",
     "output_type": "stream",
     "text": [
      "Mean: 357.81\n",
      "Standard deviation: 1.04\n"
     ]
    }
   ],
   "source": [
    "gra = GradientBoostingRegressor(random_state=10, n_estimators=50,).fit(X_train,y_train) \n",
    "grakf = cross_val_score(gra, X_train, y_train, cv=5, \n",
    "                        scoring = \"neg_mean_squared_error\")\n",
    "print(\"Mean:\",round(-grakf.mean(),2))\n",
    "print(\"Standard deviation:\",round(grakf.std(),2))"
   ]
  },
  {
   "cell_type": "code",
   "execution_count": 86,
   "metadata": {},
   "outputs": [
    {
     "name": "stdout",
     "output_type": "stream",
     "text": [
      "RandBestEstimatorxgb= GradientBoostingRegressor(alpha=0.2777777777777778, criterion='friedman_mse',\n",
      "             init=None, learning_rate=0.6000000000000001, loss='ls',\n",
      "             max_depth=4, max_features=None, max_leaf_nodes=None,\n",
      "             min_impurity_decrease=0.0, min_impurity_split=None,\n",
      "             min_samples_leaf=1, min_samples_split=2,\n",
      "             min_weight_fraction_leaf=0.0, n_estimators=68,\n",
      "             n_iter_no_change=None, presort='auto', random_state=None,\n",
      "             subsample=1.0, tol=0.0001, validation_fraction=0.1, verbose=0,\n",
      "             warm_start=False)\n",
      "RandBestParamsxgb= {'alpha': 0.2777777777777778, 'learning_rate': 0.6000000000000001, 'max_depth': 4, 'n_estimators': 68}\n",
      "RandBestScorexgb= 356.6571864381902\n"
     ]
    }
   ],
   "source": [
    "param_dist_gra = {'max_depth': sp_randint(1, 5),\n",
    "                  'n_estimators': sp_randint(20,100),\n",
    "                   'learning_rate': np.linspace(0.2, 0.8, 10),\n",
    "                   'alpha': np.linspace(0.2, 0.9, 10) }\n",
    "\n",
    "random_search_gra = RandomizedSearchCV(estimator = GradientBoostingRegressor(),\n",
    "                    param_distributions = param_dist_gra, n_jobs=4,iid=False, \n",
    "                    cv=5, random_state=25, scoring='neg_mean_squared_error').fit(X_train, y_train)\n",
    "\n",
    "print('RandBestEstimatorxgb=', random_search_gra.best_estimator_)\n",
    "print('RandBestParamsxgb=', random_search_gra.best_params_)\n",
    "print('RandBestScorexgb=', -random_search_gra.best_score_)"
   ]
  },
  {
   "cell_type": "code",
   "execution_count": null,
   "metadata": {},
   "outputs": [],
   "source": [
    "bpgra = random_search_gra.best_params_\n",
    "gra = GradientBoostingRegressor(alpha=bpgra['alpha'],\n",
    "                    learning_rate=bpgra['learning_rate'],\n",
    "                    max_depth=bpgra['max_depth'],\n",
    "                    n_estimators=bpgra['n_estimators']).fit(X_train, y_train)"
   ]
  },
  {
   "cell_type": "code",
   "execution_count": null,
   "metadata": {},
   "outputs": [],
   "source": [
    "grakf=cross_val_score(gra, X_train, y_train, cv=5, \n",
    "                      scoring=\"neg_mean_squared_error\")\n",
    "print(\"Mean:\", round(-grakf.mean(),2))\n",
    "print(\"Standard deviation:\", round(grakf.std(),2))"
   ]
  },
  {
   "cell_type": "markdown",
   "metadata": {},
   "source": [
    "##### Multi-layer Perceptron"
   ]
  },
  {
   "cell_type": "code",
   "execution_count": null,
   "metadata": {},
   "outputs": [],
   "source": [
    "from sklearn.neural_network import MLPRegressor\n",
    "mlp= MLPRegressor(activation='tanh', solver='lbfgs', alpha=0.1).fit(X_train, y_train)"
   ]
  },
  {
   "cell_type": "code",
   "execution_count": null,
   "metadata": {},
   "outputs": [],
   "source": [
    "param_dist_mlp = {'hidden_layer_sizes':sp_randint(10, 100),\n",
    "               'activation':[\"logistic\", \"relu\"],\n",
    "               'alpha': sp_uniform(0.1, 10.0)}\n",
    "\n",
    "random_search_mlp = RandomizedSearchCV(mlp, param_distributions = param_dist_mlp,\n",
    "                       n_jobs=4, cv=5, random_state=25,\n",
    "                       scoring='neg_mean_squared_error').fit(X_train, y_train)\n",
    "\n",
    "print('RandBestEstimator5=', random_search_mlp.best_estimator_)\n",
    "print('RandBestParams5=', random_search_mlp.best_params_)\n",
    "print('RandBestScore5=', -random_search_mlp.best_score_)"
   ]
  },
  {
   "cell_type": "code",
   "execution_count": null,
   "metadata": {},
   "outputs": [],
   "source": [
    "bpmlp = random_search_mlp.best_params_\n",
    "mlp = MLPRegressor(hidden_layer_sizes = bpmlp['hidden_layer_sizes'],\n",
    "                           activation = bpmlp['activation'],\n",
    "                                alpha = bpmlp['alpha']).fit(X_train, y_train)"
   ]
  },
  {
   "cell_type": "code",
   "execution_count": null,
   "metadata": {},
   "outputs": [],
   "source": [
    "mlpkf = cross_val_score(mlp, X_train, y_train, cv=5, \n",
    "                      scoring=\"neg_mean_squared_error\")\n",
    "print(\"Mean:\", round(-mlpkf.mean(),2))\n",
    "print(\"Standard deviation:\", round(mlpkf.std(),2))"
   ]
  },
  {
   "cell_type": "markdown",
   "metadata": {},
   "source": [
    "##### Elastic Net"
   ]
  },
  {
   "cell_type": "code",
   "execution_count": null,
   "metadata": {},
   "outputs": [],
   "source": [
    "ela = ElasticNet(alpha=1,l1_ratio=0.5).fit(X_train, y_train)"
   ]
  },
  {
   "cell_type": "code",
   "execution_count": null,
   "metadata": {},
   "outputs": [],
   "source": [
    "alpha_ratio_grid = {\"alpha\": np.linspace(0,1,5),\n",
    "                  \"l1_ratio\": np.linspace(0,1,5)}\n",
    "\n",
    "grid_search3 = RandomizedSearchCV(ela, param_distributions = alpha_ratio_grid, \n",
    "                       n_jobs = 4, cv = 5, random_state = 25,\n",
    "                       scoring='neg_mean_squared_error').fit(X_train,y_train)\n",
    "\n",
    "print('GridBestEstimator=', grid_search3.best_estimator_)\n",
    "print('GridBestParams=', grid_search3.best_params_)\n",
    "print('GridBestScore=', -grid_search3.best_score_)"
   ]
  },
  {
   "cell_type": "code",
   "execution_count": null,
   "metadata": {},
   "outputs": [],
   "source": [
    "ela = ElasticNet(alpha=grid_search3.best_params_['alpha'],\n",
    "                l1_ratio=grid_search3.best_params_['l1_ratio']).fit(X_train, y_train)\n",
    "\n",
    "elakf = cross_val_score(ela, X_train, y_train, cv=5, scoring=\"neg_mean_squared_error\")\n",
    "print(\"Mean:\",round(-elakf.mean(),2))\n",
    "print(\"Standard deviation:\",round(elakf.std(),2))"
   ]
  },
  {
   "cell_type": "markdown",
   "metadata": {},
   "source": [
    "#### Model Comparsion"
   ]
  },
  {
   "cell_type": "markdown",
   "metadata": {},
   "source": [
    "#### Note:\n",
    "Models that we didn't report as they produce higher MSE:\n",
    "KNN, XGboost, Adaboost, SVM"
   ]
  },
  {
   "cell_type": "code",
   "execution_count": 124,
   "metadata": {},
   "outputs": [
    {
     "data": {
      "image/png": "[encoded data removed]",
      "text/plain": [
       "<Figure size 864x405 with 1 Axes>"
      ]
     },
     "metadata": {},
     "output_type": "display_data"
    }
   ],
   "source": [
    "results = pd.DataFrame({'CV MSE':[-treekf.mean(), -rfrkf.mean(), -grakf.mean(),\n",
    "                                -laskf.mean(), -ridkf.mean(), -baykf.mean(), -elakf.mean(), -mlpkf.mean()],\n",
    "                      \n",
    "                      'CV Std':[treekf.std(), rfrkf.std(), grakf.std(), \n",
    "                                laskf.std(), ridkf.std(), baykf.std(), elakf.std(), mlpkf.std()], \n",
    "                      \n",
    "                     'Name':[\"Regression Tree\",\"Random Forest\",\"Gradient Boosting\", \n",
    "                             \"Lasso Regression\", \"Ridge Regression\", \"Bayesian Ridge\", \n",
    "                            \"Elastic Net\",  \"Multi-layer Perceptrons\"],\n",
    "                     \n",
    "                     'Class':['Tree', 'Tree', 'Boosting', 'Linear', 'Linear', \n",
    "                              'Bayeisan', 'Linear', 'Neural Nets'],})\n",
    "                     \n",
    "results = results.sort_values(by=['CV MSE']).round(2)\n",
    "render_mpl_table(results, header_columns=0, col_width=3.0)\n",
    "plt.savefig('regres.png')"
   ]
  },
  {
   "cell_type": "code",
   "execution_count": 125,
   "metadata": {},
   "outputs": [
    {
     "data": {
      "image/png": "[encoded data removed]",
      "text/plain": [
       "<Figure size 864x864 with 1 Axes>"
      ]
     },
     "metadata": {},
     "output_type": "display_data"
    }
   ],
   "source": [
    "plt.figure(figsize = (12,12))\n",
    "\n",
    "ax=sns.scatterplot(x='CV MSE', y='CV Std', hue='Class', style='Class',\n",
    "                   data=results)\n",
    "#plt.legend()\n",
    "#ax.set_xlim(min(results['CV MSE']), max(results['CV MSE']))\n",
    "#ax.set_ylim(min(results['CV Std']), max(results['CV Std']), 1000)\n",
    "for line in range(0,results.shape[0]):\n",
    "     ax.text(results['CV MSE'][line], results['CV Std'][line], \n",
    "             results.index[line], horizontalalignment='center', \n",
    "             verticalalignment='bottom',\n",
    "             bbox=dict(facecolor='maroon', alpha=0.1, pad=1), fontsize=15)\n",
    "plt.savefig('Model Scatter.png')"
   ]
  },
  {
   "cell_type": "code",
   "execution_count": 126,
   "metadata": {},
   "outputs": [
    {
     "data": {
      "text/html": [
       "<div>\n",
       "<style scoped>\n",
       "    .dataframe tbody tr th:only-of-type {\n",
       "        vertical-align: middle;\n",
       "    }\n",
       "\n",
       "    .dataframe tbody tr th {\n",
       "        vertical-align: top;\n",
       "    }\n",
       "\n",
       "    .dataframe thead th {\n",
       "        text-align: right;\n",
       "    }\n",
       "</style>\n",
       "<table border=\"1\" class=\"dataframe\">\n",
       "  <thead>\n",
       "    <tr style=\"text-align: right;\">\n",
       "      <th></th>\n",
       "      <th>CV MSE</th>\n",
       "      <th>CV Std</th>\n",
       "      <th>Name</th>\n",
       "      <th>Class</th>\n",
       "    </tr>\n",
       "  </thead>\n",
       "  <tbody>\n",
       "    <tr>\n",
       "      <th>2</th>\n",
       "      <td>356.73</td>\n",
       "      <td>1.09</td>\n",
       "      <td>Gradient Boosting</td>\n",
       "      <td>Boosting</td>\n",
       "    </tr>\n",
       "    <tr>\n",
       "      <th>1</th>\n",
       "      <td>357.74</td>\n",
       "      <td>1.04</td>\n",
       "      <td>Random Forest</td>\n",
       "      <td>Tree</td>\n",
       "    </tr>\n",
       "    <tr>\n",
       "      <th>0</th>\n",
       "      <td>357.93</td>\n",
       "      <td>1.02</td>\n",
       "      <td>Regression Tree</td>\n",
       "      <td>Tree</td>\n",
       "    </tr>\n",
       "    <tr>\n",
       "      <th>7</th>\n",
       "      <td>358.47</td>\n",
       "      <td>1.06</td>\n",
       "      <td>Multi-layer Perceptrons</td>\n",
       "      <td>Neural Nets</td>\n",
       "    </tr>\n",
       "    <tr>\n",
       "      <th>3</th>\n",
       "      <td>358.55</td>\n",
       "      <td>1.06</td>\n",
       "      <td>Lasso Regression</td>\n",
       "      <td>Linear</td>\n",
       "    </tr>\n",
       "    <tr>\n",
       "      <th>6</th>\n",
       "      <td>358.55</td>\n",
       "      <td>1.06</td>\n",
       "      <td>Elastic Net</td>\n",
       "      <td>Linear</td>\n",
       "    </tr>\n",
       "    <tr>\n",
       "      <th>5</th>\n",
       "      <td>358.55</td>\n",
       "      <td>1.06</td>\n",
       "      <td>Bayesian Ridge</td>\n",
       "      <td>Bayeisan</td>\n",
       "    </tr>\n",
       "    <tr>\n",
       "      <th>4</th>\n",
       "      <td>358.55</td>\n",
       "      <td>1.06</td>\n",
       "      <td>Ridge Regression</td>\n",
       "      <td>Linear</td>\n",
       "    </tr>\n",
       "  </tbody>\n",
       "</table>\n",
       "</div>"
      ],
      "text/plain": [
       "   CV MSE  CV Std                     Name        Class\n",
       "2  356.73    1.09        Gradient Boosting     Boosting\n",
       "1  357.74    1.04            Random Forest         Tree\n",
       "0  357.93    1.02          Regression Tree         Tree\n",
       "7  358.47    1.06  Multi-layer Perceptrons  Neural Nets\n",
       "3  358.55    1.06         Lasso Regression       Linear\n",
       "6  358.55    1.06              Elastic Net       Linear\n",
       "5  358.55    1.06           Bayesian Ridge     Bayeisan\n",
       "4  358.55    1.06         Ridge Regression       Linear"
      ]
     },
     "execution_count": 126,
     "metadata": {},
     "output_type": "execute_result"
    }
   ],
   "source": [
    "results"
   ]
  },
  {
   "cell_type": "code",
   "execution_count": 176,
   "metadata": {},
   "outputs": [
    {
     "data": {
      "text/plain": [
       "<Figure size 600x600 with 0 Axes>"
      ]
     },
     "metadata": {},
     "output_type": "display_data"
    },
    {
     "data": {
      "image/png": "[encoded data removed]",
      "text/plain": [
       "<Figure size 640x480 with 1 Axes>"
      ]
     },
     "metadata": {},
     "output_type": "display_data"
    }
   ],
   "source": [
    "#plt.rcdefaults()\n",
    "plt.figure(figsize = (6,6))\n",
    "\n",
    "fig, ax = plt.subplots()\n",
    "\n",
    "ax.barh(results['Name'], results['CV MSE'], xerr=results['CV Std'],\n",
    "        align='center', color='r', alpha=0.5, ls=\":\")\n",
    "ax.set_xlim([355,360])\n",
    "#ax.set_yticklabels(results['Name'])\n",
    "ax.invert_yaxis()  # labels read top-to-bottom\n",
    "ax.set_xlabel('CV MSE')\n",
    "ax.set_title('Model Performance')\n",
    "plt.savefig('Performance.png')"
   ]
  },
  {
   "cell_type": "code",
   "execution_count": 127,
   "metadata": {},
   "outputs": [
    {
     "data": {
      "image/png": "[encoded data removed]",
      "text/plain": [
       "<Figure size 576x576 with 1 Axes>"
      ]
     },
     "metadata": {},
     "output_type": "display_data"
    }
   ],
   "source": [
    "plt.figure(figsize = (8,8))\n",
    "\n",
    "ind = results['Name']\n",
    "mse = results['CV MSE']\n",
    "err = results['CV Std']*1.96/np.sqrt(len(X))\n",
    "\n",
    "plt.errorbar(ind, mse, err, linestyle='None', marker='*',  mfc='maroon',\n",
    "         mec='maroon', ms=10, mew=1, ls=':')\n",
    "plt.xticks(rotation=30)\n",
    "plt.ylabel('MSE')\n",
    "plt.title('Model Performance: Confidence Interval of MSE', fontsize=15)\n",
    "plt.savefig('Model Performance.png')"
   ]
  },
  {
   "cell_type": "markdown",
   "metadata": {},
   "source": [
    "#### Performance on test set"
   ]
  },
  {
   "cell_type": "code",
   "execution_count": 180,
   "metadata": {},
   "outputs": [
    {
     "data": {
      "text/plain": [
       "357.7008311464775"
      ]
     },
     "execution_count": 180,
     "metadata": {},
     "output_type": "execute_result"
    }
   ],
   "source": [
    "mean_squared_error(rfr.predict(X_test), y_test)"
   ]
  },
  {
   "cell_type": "code",
   "execution_count": 96,
   "metadata": {},
   "outputs": [
    {
     "data": {
      "text/plain": [
       "356.56518122288804"
      ]
     },
     "execution_count": 96,
     "metadata": {},
     "output_type": "execute_result"
    }
   ],
   "source": [
    "mean_squared_error(gra.predict(X_test), y_test)"
   ]
  },
  {
   "cell_type": "code",
   "execution_count": 97,
   "metadata": {},
   "outputs": [
    {
     "data": {
      "text/plain": [
       "357.7008311464775"
      ]
     },
     "execution_count": 97,
     "metadata": {},
     "output_type": "execute_result"
    }
   ],
   "source": [
    "mean_squared_error(rfr.predict(X_test), y_test)"
   ]
  },
  {
   "cell_type": "code",
   "execution_count": 178,
   "metadata": {},
   "outputs": [
    {
     "data": {
      "text/plain": [
       "358.22110938924834"
      ]
     },
     "execution_count": 178,
     "metadata": {},
     "output_type": "execute_result"
    }
   ],
   "source": [
    "mean_squared_error(lin.predict(X_test), y_test)"
   ]
  },
  {
   "cell_type": "code",
   "execution_count": 105,
   "metadata": {},
   "outputs": [
    {
     "name": "stdout",
     "output_type": "stream",
     "text": [
      "Minutes to run 93.93365021149317\n"
     ]
    }
   ],
   "source": [
    "end = time.time()\n",
    "print(\"Minutes to run\",(end-start)/60)"
   ]
  },
  {
   "cell_type": "markdown",
   "metadata": {},
   "source": [
    "#### Visualization"
   ]
  },
  {
   "cell_type": "code",
   "execution_count": 177,
   "metadata": {},
   "outputs": [
    {
     "data": {
      "text/plain": [
       "18.920887928424502"
      ]
     },
     "execution_count": 177,
     "metadata": {},
     "output_type": "execute_result"
    }
   ],
   "source": [
    "np.sqrt(358)"
   ]
  },
  {
   "cell_type": "code",
   "execution_count": 159,
   "metadata": {},
   "outputs": [
    {
     "data": {
      "text/plain": [
       "Index(['cts_bus', 'star_bus', 'gender', 'weekend', 'group'], dtype='object')"
      ]
     },
     "execution_count": 159,
     "metadata": {},
     "output_type": "execute_result"
    }
   ],
   "source": [
    "X.columns"
   ]
  },
  {
   "cell_type": "code",
   "execution_count": null,
   "metadata": {},
   "outputs": [],
   "source": [
    "from sklearn.tree import export_graphviz\n",
    "import graphviz\n",
    "tree_viz = export_graphviz(\n",
    "    tree,\n",
    "    out_file=\"tree.png\",\n",
    "    feature_names=['cts_bus', 'star_bus', 'gender', 'weekend', 'group'],\n",
    "    class_names=y,\n",
    "    rounded=True,\n",
    "    filled=True,\n",
    "    precision=1\n",
    ")\n",
    "\n",
    "graph = graphviz.Source(tree_viz)\n",
    "graph.render('tree_viz')\n",
    "#graph"
   ]
  }
 ],
 "metadata": {
  "kernelspec": {
   "display_name": "Python 3",
   "language": "python",
   "name": "python3"
  },
  "language_info": {
   "codemirror_mode": {
    "name": "ipython",
    "version": 3
   },
   "file_extension": ".py",
   "mimetype": "text/x-python",
   "name": "python",
   "nbconvert_exporter": "python",
   "pygments_lexer": "ipython3",
   "version": "3.7.1"
  }
 },
 "nbformat": 4,
 "nbformat_minor": 2
}
